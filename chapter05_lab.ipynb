{
 "cells": [
  {
   "cell_type": "markdown",
   "metadata": {},
   "source": [
    "# 4.6 Lab: Logistic Regression, LDA, QDA, and KNN\n",
    "\n",
    "\n",
    "\n",
    "<div class=\"alert alert-block alert-info\" style=\"margin-top: 20px\">\n",
    "    <ol>\n",
    "        <li><a href=\"#5.3.1-The-Validation-Set-Approach\">The Validation Set Approach</a></li>\n",
    "        <li><a href=\"#5.3.2-Leave-One-Out-Cross-Validation\">Leave-One-Out Cross-Validation</a></li>\n",
    "        <li><a href=\"#5.3.3-k-Fold-Cross-Validation\">k-Fold Cross-Validation</a></li>\n",
    "        <li><a href=\"#5.3.4-The-Bootstrap\">The Bootstrap</a></li>\n",
    "    </ol>\n",
    "</div>\n",
    "\n",
    "\n",
    "In this lab, we explore the resampling techniques covered in this chapter\n",
    "\n",
    "\n",
    "## _5.3.1 The Validation Set Approach_\n",
    "\n",
    "We explore the use of the validation set approach in order to estimate the test error rates that result from fitting various linear models on the **Auto** data set.\n",
    "> You can download the data set for from **[here](https://drive.google.com/file/d/1hrotP0JbpDXTCVKjaGi0WJl1IdAjHqrO/view?usp=sharing)**"
   ]
  },
  {
   "cell_type": "code",
   "execution_count": 1,
   "metadata": {},
   "outputs": [],
   "source": [
    "import pandas as pd\n",
    "import numpy as np\n",
    "import matplotlib.pyplot as plt\n",
    "import seaborn as sns\n",
    "%matplotlib inline"
   ]
  },
  {
   "cell_type": "code",
   "execution_count": 2,
   "metadata": {},
   "outputs": [
    {
     "data": {
      "text/html": [
       "<div>\n",
       "<style scoped>\n",
       "    .dataframe tbody tr th:only-of-type {\n",
       "        vertical-align: middle;\n",
       "    }\n",
       "\n",
       "    .dataframe tbody tr th {\n",
       "        vertical-align: top;\n",
       "    }\n",
       "\n",
       "    .dataframe thead th {\n",
       "        text-align: right;\n",
       "    }\n",
       "</style>\n",
       "<table border=\"1\" class=\"dataframe\">\n",
       "  <thead>\n",
       "    <tr style=\"text-align: right;\">\n",
       "      <th></th>\n",
       "      <th>mpg</th>\n",
       "      <th>cylinders</th>\n",
       "      <th>displacement</th>\n",
       "      <th>horsepower</th>\n",
       "      <th>weight</th>\n",
       "      <th>acceleration</th>\n",
       "      <th>year</th>\n",
       "      <th>origin</th>\n",
       "      <th>name</th>\n",
       "    </tr>\n",
       "  </thead>\n",
       "  <tbody>\n",
       "    <tr>\n",
       "      <td>0</td>\n",
       "      <td>18.0</td>\n",
       "      <td>8</td>\n",
       "      <td>307.0</td>\n",
       "      <td>130</td>\n",
       "      <td>3504</td>\n",
       "      <td>12.0</td>\n",
       "      <td>70</td>\n",
       "      <td>1</td>\n",
       "      <td>chevrolet chevelle malibu</td>\n",
       "    </tr>\n",
       "    <tr>\n",
       "      <td>1</td>\n",
       "      <td>15.0</td>\n",
       "      <td>8</td>\n",
       "      <td>350.0</td>\n",
       "      <td>165</td>\n",
       "      <td>3693</td>\n",
       "      <td>11.5</td>\n",
       "      <td>70</td>\n",
       "      <td>1</td>\n",
       "      <td>buick skylark 320</td>\n",
       "    </tr>\n",
       "    <tr>\n",
       "      <td>2</td>\n",
       "      <td>18.0</td>\n",
       "      <td>8</td>\n",
       "      <td>318.0</td>\n",
       "      <td>150</td>\n",
       "      <td>3436</td>\n",
       "      <td>11.0</td>\n",
       "      <td>70</td>\n",
       "      <td>1</td>\n",
       "      <td>plymouth satellite</td>\n",
       "    </tr>\n",
       "    <tr>\n",
       "      <td>3</td>\n",
       "      <td>16.0</td>\n",
       "      <td>8</td>\n",
       "      <td>304.0</td>\n",
       "      <td>150</td>\n",
       "      <td>3433</td>\n",
       "      <td>12.0</td>\n",
       "      <td>70</td>\n",
       "      <td>1</td>\n",
       "      <td>amc rebel sst</td>\n",
       "    </tr>\n",
       "    <tr>\n",
       "      <td>4</td>\n",
       "      <td>17.0</td>\n",
       "      <td>8</td>\n",
       "      <td>302.0</td>\n",
       "      <td>140</td>\n",
       "      <td>3449</td>\n",
       "      <td>10.5</td>\n",
       "      <td>70</td>\n",
       "      <td>1</td>\n",
       "      <td>ford torino</td>\n",
       "    </tr>\n",
       "  </tbody>\n",
       "</table>\n",
       "</div>"
      ],
      "text/plain": [
       "    mpg  cylinders  displacement horsepower  weight  acceleration  year  \\\n",
       "0  18.0          8         307.0        130    3504          12.0    70   \n",
       "1  15.0          8         350.0        165    3693          11.5    70   \n",
       "2  18.0          8         318.0        150    3436          11.0    70   \n",
       "3  16.0          8         304.0        150    3433          12.0    70   \n",
       "4  17.0          8         302.0        140    3449          10.5    70   \n",
       "\n",
       "   origin                       name  \n",
       "0       1  chevrolet chevelle malibu  \n",
       "1       1          buick skylark 320  \n",
       "2       1         plymouth satellite  \n",
       "3       1              amc rebel sst  \n",
       "4       1                ford torino  "
      ]
     },
     "execution_count": 2,
     "metadata": {},
     "output_type": "execute_result"
    }
   ],
   "source": [
    "auto = pd.read_csv('Auto.csv')\n",
    "auto.head()"
   ]
  },
  {
   "cell_type": "code",
   "execution_count": 3,
   "metadata": {},
   "outputs": [
    {
     "name": "stdout",
     "output_type": "stream",
     "text": [
      "<class 'pandas.core.frame.DataFrame'>\n",
      "RangeIndex: 397 entries, 0 to 396\n",
      "Data columns (total 9 columns):\n",
      "mpg             397 non-null float64\n",
      "cylinders       397 non-null int64\n",
      "displacement    397 non-null float64\n",
      "horsepower      397 non-null object\n",
      "weight          397 non-null int64\n",
      "acceleration    397 non-null float64\n",
      "year            397 non-null int64\n",
      "origin          397 non-null int64\n",
      "name            397 non-null object\n",
      "dtypes: float64(3), int64(4), object(2)\n",
      "memory usage: 28.0+ KB\n"
     ]
    }
   ],
   "source": [
    "auto.info()"
   ]
  },
  {
   "cell_type": "code",
   "execution_count": 4,
   "metadata": {},
   "outputs": [
    {
     "data": {
      "text/html": [
       "<div>\n",
       "<style scoped>\n",
       "    .dataframe tbody tr th:only-of-type {\n",
       "        vertical-align: middle;\n",
       "    }\n",
       "\n",
       "    .dataframe tbody tr th {\n",
       "        vertical-align: top;\n",
       "    }\n",
       "\n",
       "    .dataframe thead th {\n",
       "        text-align: right;\n",
       "    }\n",
       "</style>\n",
       "<table border=\"1\" class=\"dataframe\">\n",
       "  <thead>\n",
       "    <tr style=\"text-align: right;\">\n",
       "      <th></th>\n",
       "      <th>mpg</th>\n",
       "      <th>cylinders</th>\n",
       "      <th>displacement</th>\n",
       "      <th>weight</th>\n",
       "      <th>acceleration</th>\n",
       "      <th>year</th>\n",
       "      <th>origin</th>\n",
       "    </tr>\n",
       "  </thead>\n",
       "  <tbody>\n",
       "    <tr>\n",
       "      <td>count</td>\n",
       "      <td>397.000000</td>\n",
       "      <td>397.000000</td>\n",
       "      <td>397.000000</td>\n",
       "      <td>397.000000</td>\n",
       "      <td>397.000000</td>\n",
       "      <td>397.000000</td>\n",
       "      <td>397.000000</td>\n",
       "    </tr>\n",
       "    <tr>\n",
       "      <td>mean</td>\n",
       "      <td>23.515869</td>\n",
       "      <td>5.458438</td>\n",
       "      <td>193.532746</td>\n",
       "      <td>2970.261965</td>\n",
       "      <td>15.555668</td>\n",
       "      <td>75.994962</td>\n",
       "      <td>1.574307</td>\n",
       "    </tr>\n",
       "    <tr>\n",
       "      <td>std</td>\n",
       "      <td>7.825804</td>\n",
       "      <td>1.701577</td>\n",
       "      <td>104.379583</td>\n",
       "      <td>847.904119</td>\n",
       "      <td>2.749995</td>\n",
       "      <td>3.690005</td>\n",
       "      <td>0.802549</td>\n",
       "    </tr>\n",
       "    <tr>\n",
       "      <td>min</td>\n",
       "      <td>9.000000</td>\n",
       "      <td>3.000000</td>\n",
       "      <td>68.000000</td>\n",
       "      <td>1613.000000</td>\n",
       "      <td>8.000000</td>\n",
       "      <td>70.000000</td>\n",
       "      <td>1.000000</td>\n",
       "    </tr>\n",
       "    <tr>\n",
       "      <td>25%</td>\n",
       "      <td>17.500000</td>\n",
       "      <td>4.000000</td>\n",
       "      <td>104.000000</td>\n",
       "      <td>2223.000000</td>\n",
       "      <td>13.800000</td>\n",
       "      <td>73.000000</td>\n",
       "      <td>1.000000</td>\n",
       "    </tr>\n",
       "    <tr>\n",
       "      <td>50%</td>\n",
       "      <td>23.000000</td>\n",
       "      <td>4.000000</td>\n",
       "      <td>146.000000</td>\n",
       "      <td>2800.000000</td>\n",
       "      <td>15.500000</td>\n",
       "      <td>76.000000</td>\n",
       "      <td>1.000000</td>\n",
       "    </tr>\n",
       "    <tr>\n",
       "      <td>75%</td>\n",
       "      <td>29.000000</td>\n",
       "      <td>8.000000</td>\n",
       "      <td>262.000000</td>\n",
       "      <td>3609.000000</td>\n",
       "      <td>17.100000</td>\n",
       "      <td>79.000000</td>\n",
       "      <td>2.000000</td>\n",
       "    </tr>\n",
       "    <tr>\n",
       "      <td>max</td>\n",
       "      <td>46.600000</td>\n",
       "      <td>8.000000</td>\n",
       "      <td>455.000000</td>\n",
       "      <td>5140.000000</td>\n",
       "      <td>24.800000</td>\n",
       "      <td>82.000000</td>\n",
       "      <td>3.000000</td>\n",
       "    </tr>\n",
       "  </tbody>\n",
       "</table>\n",
       "</div>"
      ],
      "text/plain": [
       "              mpg   cylinders  displacement       weight  acceleration  \\\n",
       "count  397.000000  397.000000    397.000000   397.000000    397.000000   \n",
       "mean    23.515869    5.458438    193.532746  2970.261965     15.555668   \n",
       "std      7.825804    1.701577    104.379583   847.904119      2.749995   \n",
       "min      9.000000    3.000000     68.000000  1613.000000      8.000000   \n",
       "25%     17.500000    4.000000    104.000000  2223.000000     13.800000   \n",
       "50%     23.000000    4.000000    146.000000  2800.000000     15.500000   \n",
       "75%     29.000000    8.000000    262.000000  3609.000000     17.100000   \n",
       "max     46.600000    8.000000    455.000000  5140.000000     24.800000   \n",
       "\n",
       "             year      origin  \n",
       "count  397.000000  397.000000  \n",
       "mean    75.994962    1.574307  \n",
       "std      3.690005    0.802549  \n",
       "min     70.000000    1.000000  \n",
       "25%     73.000000    1.000000  \n",
       "50%     76.000000    1.000000  \n",
       "75%     79.000000    2.000000  \n",
       "max     82.000000    3.000000  "
      ]
     },
     "execution_count": 4,
     "metadata": {},
     "output_type": "execute_result"
    }
   ],
   "source": [
    "auto.describe()"
   ]
  },
  {
   "cell_type": "code",
   "execution_count": 5,
   "metadata": {},
   "outputs": [
    {
     "name": "stdout",
     "output_type": "stream",
     "text": [
      "<class 'pandas.core.frame.DataFrame'>\n",
      "RangeIndex: 397 entries, 0 to 396\n",
      "Data columns (total 9 columns):\n",
      "mpg             397 non-null float64\n",
      "cylinders       397 non-null int64\n",
      "displacement    397 non-null float64\n",
      "horsepower      397 non-null int32\n",
      "weight          397 non-null int64\n",
      "acceleration    397 non-null float64\n",
      "year            397 non-null int64\n",
      "origin          397 non-null int64\n",
      "name            397 non-null object\n",
      "dtypes: float64(3), int32(1), int64(4), object(1)\n",
      "memory usage: 26.5+ KB\n"
     ]
    }
   ],
   "source": [
    "auto['horsepower'] = auto['horsepower'].replace('?', '105')\n",
    "auto = auto.astype({'horsepower':'int32'})\n",
    "auto.info()"
   ]
  },
  {
   "cell_type": "markdown",
   "metadata": {},
   "source": [
    "We begin by using `sklearn` function to split the set of observations into two halves, by selecting a random subset of 196 observations out of the original 392 observations. We refer to these observations as the training set."
   ]
  },
  {
   "cell_type": "code",
   "execution_count": 6,
   "metadata": {},
   "outputs": [],
   "source": [
    "X = auto.iloc[:, 1:-1]\n",
    "y = auto.iloc[:, 0]"
   ]
  },
  {
   "cell_type": "code",
   "execution_count": 7,
   "metadata": {},
   "outputs": [],
   "source": [
    "from sklearn.model_selection import train_test_split\n",
    "X_train, X_test, y_train, y_test = train_test_split(X, y, test_size=0.5, random_state=1)"
   ]
  },
  {
   "cell_type": "markdown",
   "metadata": {},
   "source": [
    "We start by fitting the linear model into the training set with **mpg** and **hp**."
   ]
  },
  {
   "cell_type": "code",
   "execution_count": 8,
   "metadata": {},
   "outputs": [],
   "source": [
    "hp_train = X_train[['horsepower']].values\n",
    "hp_test = X_test[['horsepower']].values"
   ]
  },
  {
   "cell_type": "code",
   "execution_count": 9,
   "metadata": {},
   "outputs": [
    {
     "name": "stdout",
     "output_type": "stream",
     "text": [
      "24.627375790258384\n"
     ]
    }
   ],
   "source": [
    "from sklearn.linear_model import LinearRegression\n",
    "from sklearn.metrics import mean_squared_error\n",
    "\n",
    "lm = LinearRegression()\n",
    "lm1 = lm.fit(hp_train, y_train)\n",
    "pred = lm1.predict(hp_test)\n",
    "print(mean_squared_error(y_test, pred))"
   ]
  },
  {
   "cell_type": "markdown",
   "metadata": {},
   "source": [
    "* the estimated test MSE for the linear regression fit is 24.63\n",
    "\n",
    "We can use the `polynomial` function to estimate the test error for the polynomial\n",
    "and cubic regressions."
   ]
  },
  {
   "cell_type": "markdown",
   "metadata": {},
   "source": [
    "from sklearn.preprocessing import PolynomialFeatures\n",
    "\n",
    "poly2 = PolynomialFeatures(degree=2) # we choose the degree of the polynomial function\n",
    "poly2_train = poly2.fit_transform(X_train) # we fit into the train data and then transform\n",
    "poly2_test = poly2.transform(X_test) # but we only transform the data of the trainning set\n",
    "pm = lm.fit(poly2_train, y_train) # we simply run linear model with transformed data\n",
    "y_pred2 = pm.predict(poly2_test)"
   ]
  },
  {
   "cell_type": "code",
   "execution_count": 10,
   "metadata": {},
   "outputs": [
    {
     "name": "stdout",
     "output_type": "stream",
     "text": [
      "19.523081625165556\n",
      "19.691109995296056\n"
     ]
    }
   ],
   "source": [
    "from sklearn.preprocessing import PolynomialFeatures\n",
    "\n",
    "# Quadratic\n",
    "poly = PolynomialFeatures(degree=2)\n",
    "X_train2 = poly.fit_transform(hp_train)\n",
    "X_test2 = poly.transform(hp_test)\n",
    "model = lm1.fit(X_train2, y_train)\n",
    "print(mean_squared_error(y_test, model.predict(X_test2)))\n",
    "\n",
    "# Cubic\n",
    "poly = PolynomialFeatures(degree=3)\n",
    "X_train3 = poly.fit_transform(hp_train)\n",
    "X_test3 = poly.transform(hp_test)\n",
    "\n",
    "model1 = lm1.fit(X_train3, y_train)\n",
    "print(mean_squared_error(y_test, model1.predict(X_test3)))"
   ]
  },
  {
   "cell_type": "markdown",
   "metadata": {},
   "source": [
    "* For a Quadratic, the model error rate is 19.52\n",
    "* For a Cubic model, the error rate is 19.69\n",
    "\n",
    "If we choose a different training set instead, then we will obtain somewhat different errors on the validation set."
   ]
  },
  {
   "cell_type": "code",
   "execution_count": 11,
   "metadata": {},
   "outputs": [],
   "source": [
    "from sklearn.model_selection import train_test_split\n",
    "X_train, X_test, y_train, y_test = train_test_split(X, y, test_size=0.5, random_state=2)"
   ]
  },
  {
   "cell_type": "code",
   "execution_count": 12,
   "metadata": {},
   "outputs": [],
   "source": [
    "hp_train = X_train[['horsepower']].values\n",
    "hp_test = X_test[['horsepower']].values"
   ]
  },
  {
   "cell_type": "code",
   "execution_count": 13,
   "metadata": {},
   "outputs": [
    {
     "name": "stdout",
     "output_type": "stream",
     "text": [
      "24.16498032778625\n",
      "19.142361681198697\n",
      "19.6895604435906\n"
     ]
    }
   ],
   "source": [
    "# Linear\n",
    "lm = LinearRegression()\n",
    "lm1 = lm.fit(hp_train, y_train)\n",
    "pred = lm1.predict(hp_test)\n",
    "print(mean_squared_error(y_test, pred))\n",
    "\n",
    "# Quadratic\n",
    "poly = PolynomialFeatures(degree=2)\n",
    "X_train2 = poly.fit_transform(hp_train)\n",
    "X_test2 = poly.transform(hp_test)\n",
    "model = lm1.fit(X_train2, y_train)\n",
    "print(mean_squared_error(y_test, model.predict(X_test2)))\n",
    "\n",
    "# Cubic\n",
    "poly = PolynomialFeatures(degree=3)\n",
    "X_train3 = poly.fit_transform(hp_train)\n",
    "X_test3 = poly.transform(hp_test)\n",
    "\n",
    "model1 = lm1.fit(X_train3, y_train)\n",
    "print(mean_squared_error(y_test, model1.predict(X_test3)))"
   ]
  },
  {
   "cell_type": "markdown",
   "metadata": {},
   "source": [
    "Using this split of the observations into a training set and a validation set, we find that the validation set error rates for the models:\n",
    "* with the linear term is 24.16\n",
    "* with the quadratic term is 19.14\n",
    "* with cubic terms is 19.69\n",
    "\n",
    "We can run multiple polynomials and compare their results. For that, I will use the function which calculates MSE's for a range of polynomial models."
   ]
  },
  {
   "cell_type": "code",
   "execution_count": 14,
   "metadata": {},
   "outputs": [],
   "source": [
    "def poly_mse(X_train, X_test, y_train, y_test, degree=10):\n",
    "    mses = []\n",
    "    degrees = []\n",
    "    for deg in range (1, degree+1):\n",
    "        poly_reg = PolynomialFeatures(degree= deg)\n",
    "        poly_train = poly_reg.fit_transform(X_train)\n",
    "        poly_test = poly_reg.transform(X_test)\n",
    "        pred = lm.fit(poly_train, y_train).predict(poly_test)\n",
    "        MSE = mean_squared_error(y_test, pred)\n",
    "        print('Polynomial model with {} degrees has the MSE of {}'.format(deg,\n",
    "              round(MSE, 4)))\n",
    "        mses.append(MSE)\n",
    "        degrees.append(deg)\n",
    "    return mses, degrees"
   ]
  },
  {
   "cell_type": "code",
   "execution_count": 15,
   "metadata": {},
   "outputs": [
    {
     "name": "stdout",
     "output_type": "stream",
     "text": [
      "Polynomial model with 1 degrees has the MSE of 24.165\n",
      "Polynomial model with 2 degrees has the MSE of 19.1424\n",
      "Polynomial model with 3 degrees has the MSE of 19.6896\n",
      "Polynomial model with 4 degrees has the MSE of 20.1684\n",
      "Polynomial model with 5 degrees has the MSE of 19.6966\n",
      "Polynomial model with 6 degrees has the MSE of 19.4147\n",
      "Polynomial model with 7 degrees has the MSE of 19.699\n",
      "Polynomial model with 8 degrees has the MSE of 19.9226\n",
      "Polynomial model with 9 degrees has the MSE of 19.9133\n",
      "Polynomial model with 10 degrees has the MSE of 19.7294\n"
     ]
    }
   ],
   "source": [
    "mses, degrees = poly_mse(hp_train, hp_test, y_train, y_test)"
   ]
  },
  {
   "cell_type": "markdown",
   "metadata": {},
   "source": [
    "Let's plot a graph to visualize our findings."
   ]
  },
  {
   "cell_type": "code",
   "execution_count": 16,
   "metadata": {},
   "outputs": [
    {
     "data": {
      "text/plain": [
       "(1, 10)"
      ]
     },
     "execution_count": 16,
     "metadata": {},
     "output_type": "execute_result"
    },
    {
     "data": {
      "image/png": "[encoded data removed]",
      "text/plain": [
       "<Figure size 432x288 with 1 Axes>"
      ]
     },
     "metadata": {
      "needs_background": "light"
     },
     "output_type": "display_data"
    }
   ],
   "source": [
    "fig, ax = plt.subplots(figsize=(6,4))\n",
    "ax.plot(degrees, mses, linewidth=2, color='r')\n",
    "ax.set_title('Polynomial Models Validation')\n",
    "ax.set_ylabel('MSE')\n",
    "ax.set_xlabel('Degrees')\n",
    "ax.set_xlim(1, 10)"
   ]
  },
  {
   "cell_type": "markdown",
   "metadata": {},
   "source": [
    "These results are consistent with our previous findings: a model that predicts **mpg** using a quadratic function of **horsepower** performs better than a model that involves only a linear function of **horsepower**, and there is little evidence in favor of a model that uses a cubic function of **horsepower**.\n",
    "\n",
    "--------\n",
    "## _5.3.2 Leave-One-Out Cross-Validation_\n",
    "\n",
    "The LOOCV estimate can be automatically computed for any generalized linear model using the `LeaveOneOut()` and `KFold()` functions."
   ]
  },
  {
   "cell_type": "code",
   "execution_count": 17,
   "metadata": {},
   "outputs": [
    {
     "data": {
      "text/plain": [
       "397"
      ]
     },
     "execution_count": 17,
     "metadata": {},
     "output_type": "execute_result"
    }
   ],
   "source": [
    "linear_model = lm.fit(X_train, y_train)\n",
    "\n",
    "from sklearn.model_selection import LeaveOneOut # import LOOCV\n",
    "loo = LeaveOneOut()\n",
    "loo.get_n_splits(X)"
   ]
  },
  {
   "cell_type": "code",
   "execution_count": 18,
   "metadata": {},
   "outputs": [],
   "source": [
    "X2 = X[['horsepower']]\n",
    "X2 = X2.values\n",
    "y2 = y.values"
   ]
  },
  {
   "cell_type": "markdown",
   "metadata": {},
   "source": [
    "In python we don't have specific function to use the LOOCV, but the same result can be achieved by setting `kFold()` bin number to the LOO amount"
   ]
  },
  {
   "cell_type": "code",
   "execution_count": 19,
   "metadata": {},
   "outputs": [
    {
     "name": "stdout",
     "output_type": "stream",
     "text": [
      "LOOCV with 392 folds has the MSE: 24.9644\n"
     ]
    }
   ],
   "source": [
    "from sklearn.model_selection import KFold\n",
    "from sklearn.model_selection import cross_val_score\n",
    "loocv = KFold(n_splits=392, random_state=0, shuffle=False)\n",
    "\n",
    "loocv_results = cross_val_score(linear_model, X2, y2, scoring='neg_mean_squared_error', cv=loocv)\n",
    "mean_mse = np.abs(loocv_results).mean()\n",
    "print('LOOCV with {} folds has the MSE: {}'.format(str(len(loocv_results)), round(mean_mse, 4)))"
   ]
  },
  {
   "cell_type": "markdown",
   "metadata": {},
   "source": [
    "We can repeat this procedure for increasingly complex polynomial fits. To automate the process and not repeat each step multiple times I will convert it into the function which takes X and y values, a number of k-Folds, and the number of degrees we want to run our model."
   ]
  },
  {
   "cell_type": "code",
   "execution_count": 20,
   "metadata": {},
   "outputs": [],
   "source": [
    "def cross_val_kfold(X, y, k, degree):\n",
    "    accu_mean = []\n",
    "    for d in range (1, degree+1):\n",
    "        model = PolynomialFeatures(degree= d)\n",
    "        X_transformed = model.fit_transform(X)\n",
    "        pm = lm.fit(X_transformed, y)\n",
    "        accuracy = - cross_val_score(estimator=pm, X=X_transformed, y=y, cv=k,\n",
    "                                   scoring='neg_mean_squared_error').mean()\n",
    "        print('Polynomial Degree: {}, \\tMSE: {}'.format(d, round(accuracy, 4)))\n",
    "        accu_mean.append(accuracy)"
   ]
  },
  {
   "cell_type": "code",
   "execution_count": 21,
   "metadata": {},
   "outputs": [
    {
     "name": "stdout",
     "output_type": "stream",
     "text": [
      "Polynomial Degree: 1, \tMSE: 24.9644\n",
      "Polynomial Degree: 2, \tMSE: 20.6398\n",
      "Polynomial Degree: 3, \tMSE: 20.7481\n",
      "Polynomial Degree: 4, \tMSE: 20.8618\n",
      "Polynomial Degree: 5, \tMSE: 20.5814\n"
     ]
    }
   ],
   "source": [
    "cross_val_kfold(X2, y2, loocv, 5)"
   ]
  },
  {
   "cell_type": "markdown",
   "metadata": {},
   "source": [
    "We see a sharp drop in the estimated test MSE between the linear and quadratic fits, but then no clear improvement from using\n",
    "higher-order polynomials.\n",
    "\n",
    "---------\n",
    "## _5.3.3 k-Fold Cross-Validation_\n",
    "As mentioned above we will use the same `KFold` function to implement k-Fold Cross-Validation. We start by using k=10, which is a common choice for k.\n",
    "\n",
    "the CV errors corresponding to the polynomial fit of orders one to ten."
   ]
  },
  {
   "cell_type": "code",
   "execution_count": 22,
   "metadata": {},
   "outputs": [
    {
     "name": "stdout",
     "output_type": "stream",
     "text": [
      "Polynomial Degree: 1, \tMSE: 28.4122\n",
      "Polynomial Degree: 2, \tMSE: 22.5188\n",
      "Polynomial Degree: 3, \tMSE: 22.6204\n",
      "Polynomial Degree: 4, \tMSE: 22.6927\n",
      "Polynomial Degree: 5, \tMSE: 22.4232\n",
      "Polynomial Degree: 6, \tMSE: 22.3025\n",
      "Polynomial Degree: 7, \tMSE: 22.4999\n",
      "Polynomial Degree: 8, \tMSE: 22.582\n",
      "Polynomial Degree: 9, \tMSE: 22.5067\n",
      "Polynomial Degree: 10, \tMSE: 22.4745\n"
     ]
    }
   ],
   "source": [
    "kf = KFold(n_splits=10, random_state=0, shuffle=False)\n",
    "accu_mean = cross_val_kfold(X2, y2, kf, 10)"
   ]
  },
  {
   "cell_type": "markdown",
   "metadata": {},
   "source": [
    "The computation time is much shorter than that of LOOCV. We still see little evidence that using cubic or higher-order polynomial terms leads to lower test error than simply using a quadratic fit. We also see that MSE has slightly increased compared to the validation set approach. \n",
    "\n",
    "We saw that the two errors of the cross-validation are essentially the same when LOOCV is performed. When we instead perform a k-fold CV, then the two numbers differ slightly. This is because with added precision while testing we reduced bias and this slightly increased the variance.\n",
    "\n",
    "---------\n",
    "## _5.3.4 The Bootstrap_\n",
    "\n",
    "We illustrate the use of the bootstrap in the simple example involving estimating the accuracy of the linear regression model on the **Auto** data set.\n",
    "\n",
    "### Estimating the Accuracy of a Statistic of Interest\n",
    "One of the great advantages of the bootstrap approach is that it can be applied in almost all situations. No complicated mathematical calculations are required\n",
    "\n",
    "* First, we must create a function that computes the statistic of interest.\n",
    "* Second, we perform bootstrap by repeatedly sampling observations from the data set with replacement.\n",
    "\n",
    "The Portfolio data set in the ISLR package has variables called X and Y.\n",
    "> Get the data set from **[here](https://drive.google.com/file/d/1fKYDMtJqrok3g-Ak3YZwqwA55u-k3BLV/view?usp=sharing)**"
   ]
  },
  {
   "cell_type": "code",
   "execution_count": 23,
   "metadata": {},
   "outputs": [
    {
     "data": {
      "text/html": [
       "<div>\n",
       "<style scoped>\n",
       "    .dataframe tbody tr th:only-of-type {\n",
       "        vertical-align: middle;\n",
       "    }\n",
       "\n",
       "    .dataframe tbody tr th {\n",
       "        vertical-align: top;\n",
       "    }\n",
       "\n",
       "    .dataframe thead th {\n",
       "        text-align: right;\n",
       "    }\n",
       "</style>\n",
       "<table border=\"1\" class=\"dataframe\">\n",
       "  <thead>\n",
       "    <tr style=\"text-align: right;\">\n",
       "      <th></th>\n",
       "      <th>X</th>\n",
       "      <th>Y</th>\n",
       "    </tr>\n",
       "  </thead>\n",
       "  <tbody>\n",
       "    <tr>\n",
       "      <td>0</td>\n",
       "      <td>-0.895251</td>\n",
       "      <td>-0.234924</td>\n",
       "    </tr>\n",
       "    <tr>\n",
       "      <td>1</td>\n",
       "      <td>-1.562454</td>\n",
       "      <td>-0.885176</td>\n",
       "    </tr>\n",
       "    <tr>\n",
       "      <td>2</td>\n",
       "      <td>-0.417090</td>\n",
       "      <td>0.271888</td>\n",
       "    </tr>\n",
       "    <tr>\n",
       "      <td>3</td>\n",
       "      <td>1.044356</td>\n",
       "      <td>-0.734198</td>\n",
       "    </tr>\n",
       "    <tr>\n",
       "      <td>4</td>\n",
       "      <td>-0.315568</td>\n",
       "      <td>0.841983</td>\n",
       "    </tr>\n",
       "  </tbody>\n",
       "</table>\n",
       "</div>"
      ],
      "text/plain": [
       "          X         Y\n",
       "0 -0.895251 -0.234924\n",
       "1 -1.562454 -0.885176\n",
       "2 -0.417090  0.271888\n",
       "3  1.044356 -0.734198\n",
       "4 -0.315568  0.841983"
      ]
     },
     "execution_count": 23,
     "metadata": {},
     "output_type": "execute_result"
    }
   ],
   "source": [
    "portfolio = pd.read_csv('Portfolio.csv')\n",
    "portfolio.head()"
   ]
  },
  {
   "cell_type": "code",
   "execution_count": 24,
   "metadata": {},
   "outputs": [
    {
     "data": {
      "text/html": [
       "<div>\n",
       "<style scoped>\n",
       "    .dataframe tbody tr th:only-of-type {\n",
       "        vertical-align: middle;\n",
       "    }\n",
       "\n",
       "    .dataframe tbody tr th {\n",
       "        vertical-align: top;\n",
       "    }\n",
       "\n",
       "    .dataframe thead th {\n",
       "        text-align: right;\n",
       "    }\n",
       "</style>\n",
       "<table border=\"1\" class=\"dataframe\">\n",
       "  <thead>\n",
       "    <tr style=\"text-align: right;\">\n",
       "      <th></th>\n",
       "      <th>X</th>\n",
       "      <th>Y</th>\n",
       "    </tr>\n",
       "  </thead>\n",
       "  <tbody>\n",
       "    <tr>\n",
       "      <td>count</td>\n",
       "      <td>100.000000</td>\n",
       "      <td>100.000000</td>\n",
       "    </tr>\n",
       "    <tr>\n",
       "      <td>mean</td>\n",
       "      <td>-0.077132</td>\n",
       "      <td>-0.096945</td>\n",
       "    </tr>\n",
       "    <tr>\n",
       "      <td>std</td>\n",
       "      <td>1.062376</td>\n",
       "      <td>1.143782</td>\n",
       "    </tr>\n",
       "    <tr>\n",
       "      <td>min</td>\n",
       "      <td>-2.432764</td>\n",
       "      <td>-2.725281</td>\n",
       "    </tr>\n",
       "    <tr>\n",
       "      <td>25%</td>\n",
       "      <td>-0.888474</td>\n",
       "      <td>-0.885722</td>\n",
       "    </tr>\n",
       "    <tr>\n",
       "      <td>50%</td>\n",
       "      <td>-0.268889</td>\n",
       "      <td>-0.228708</td>\n",
       "    </tr>\n",
       "    <tr>\n",
       "      <td>75%</td>\n",
       "      <td>0.558093</td>\n",
       "      <td>0.806708</td>\n",
       "    </tr>\n",
       "    <tr>\n",
       "      <td>max</td>\n",
       "      <td>2.460336</td>\n",
       "      <td>2.565985</td>\n",
       "    </tr>\n",
       "  </tbody>\n",
       "</table>\n",
       "</div>"
      ],
      "text/plain": [
       "                X           Y\n",
       "count  100.000000  100.000000\n",
       "mean    -0.077132   -0.096945\n",
       "std      1.062376    1.143782\n",
       "min     -2.432764   -2.725281\n",
       "25%     -0.888474   -0.885722\n",
       "50%     -0.268889   -0.228708\n",
       "75%      0.558093    0.806708\n",
       "max      2.460336    2.565985"
      ]
     },
     "execution_count": 24,
     "metadata": {},
     "output_type": "execute_result"
    }
   ],
   "source": [
    "portfolio.describe()"
   ]
  },
  {
   "cell_type": "code",
   "execution_count": 25,
   "metadata": {},
   "outputs": [
    {
     "name": "stdout",
     "output_type": "stream",
     "text": [
      "<class 'pandas.core.frame.DataFrame'>\n",
      "RangeIndex: 100 entries, 0 to 99\n",
      "Data columns (total 2 columns):\n",
      "X    100 non-null float64\n",
      "Y    100 non-null float64\n",
      "dtypes: float64(2)\n",
      "memory usage: 1.7 KB\n"
     ]
    }
   ],
   "source": [
    "portfolio.info()"
   ]
  },
  {
   "cell_type": "markdown",
   "metadata": {},
   "source": [
    "There is no specific function to perform the bootstrap but we can easily create one, which takes input (X, Y) and returns the estimate for $\\alpha$."
   ]
  },
  {
   "cell_type": "code",
   "execution_count": 26,
   "metadata": {},
   "outputs": [],
   "source": [
    "def alpha_calc(X, y):\n",
    "    alpha = ((np.var(y) - np.cov(X,y)) / (np.var(X) + np.var(y) - 2 * np.cov(X,y)))\n",
    "    return alpha"
   ]
  },
  {
   "cell_type": "markdown",
   "metadata": {},
   "source": [
    "This function returns, or outputs, an estimate for $\\alpha$. For instance, the following command tells `python` to estimate $\\alpha$ using all 100 observations."
   ]
  },
  {
   "cell_type": "code",
   "execution_count": 27,
   "metadata": {},
   "outputs": [
    {
     "name": "stdout",
     "output_type": "stream",
     "text": [
      "[1.07270947 0.57665115]\n"
     ]
    }
   ],
   "source": [
    "X = portfolio['X'][0:100]\n",
    "y = portfolio['Y'][0:100]\n",
    "print(alpha_calc(X, y)[0])"
   ]
  },
  {
   "cell_type": "markdown",
   "metadata": {},
   "source": [
    "We can create a function that will allow us to perform a random selection of 100 observations from the range of one to 100 with replacement. This is similar to building a new bootstrap data set and calculating $\\alpha$ based on the new data set."
   ]
  },
  {
   "cell_type": "code",
   "execution_count": 28,
   "metadata": {},
   "outputs": [
    {
     "name": "stdout",
     "output_type": "stream",
     "text": [
      "[0.96081732 0.5795274 ]\n"
     ]
    }
   ],
   "source": [
    "def bootstrap(df, fraction, n):\n",
    "    result = 0\n",
    "    for i in range(0, n + 1):\n",
    "        sample = df.sample(frac= fraction, replace=True)\n",
    "        X = sample.X[:100]\n",
    "        y = sample.Y[:100]\n",
    "        alpha_result = alpha_calc(X,y)\n",
    "        result += alpha_result\n",
    "    final_result = result / n\n",
    "    return final_result\n",
    "\n",
    "print(bootstrap(portfolio, 1, 1000)[0])"
   ]
  },
  {
   "cell_type": "markdown",
   "metadata": {},
   "source": [
    "The final output shows that using the original data, $\\alpha$ is approximately 0.58.\n",
    "\n",
    "\n",
    "### Estimating the Accuracy of a Linear Regression Model\n",
    "\n",
    "The bootstrap approach can be used to assess the variability of the coefficient estimates and predictions from a statistical learning method. Here we use the bootstrap approach to assess the variability of the estimates for $β_0$ and $β_1$, the intercept and slope terms for the linear regression model that uses **horsepower** to predict **mpg** in the **Auto** data set. We will compare the estimates obtained using the bootstrap to those obtained using the formulas for $SE(\\hat{\\beta}_0)$ and $SE(\\hat{\\beta}_1)$ described in Lab 3."
   ]
  },
  {
   "cell_type": "code",
   "execution_count": 29,
   "metadata": {},
   "outputs": [
    {
     "name": "stdout",
     "output_type": "stream",
     "text": [
      "Coeficient: \tIntercept:\n",
      " [-0.15781924] \t 40.004202891898615\n"
     ]
    }
   ],
   "source": [
    "X3 = auto[['horsepower']].values\n",
    "y3 = auto['mpg']\n",
    "bootl = lm.fit(X3, y3)\n",
    "\n",
    "print('Coeficient: \\tIntercept:\\n',\n",
    "     bootl.coef_, '\\t', bootl.intercept_)"
   ]
  },
  {
   "cell_type": "markdown",
   "metadata": {},
   "source": [
    "We can use the same approach to create bootstrap estimates for the intercept and slope terms by randomly sampling from among the observations with replacement. We can compute the standard errors of 1,000 bootstrap estimates for the intercept and slope terms."
   ]
  },
  {
   "cell_type": "code",
   "execution_count": 30,
   "metadata": {},
   "outputs": [
    {
     "name": "stdout",
     "output_type": "stream",
     "text": [
      "Coeficient: \tIntercept:\n",
      " [-0.16079905] \t 40.4657628966397\n"
     ]
    }
   ],
   "source": [
    "from sklearn.utils import resample\n",
    "\n",
    "X_sample, y_sample = resample(X3, y3, n_samples=1000)\n",
    "bootl2 = lm.fit(X_sample,y_sample)\n",
    "\n",
    "print('Coeficient: \\tIntercept:\\n',\n",
    "     bootl2.coef_, '\\t', bootl2.intercept_)"
   ]
  },
  {
   "cell_type": "code",
   "execution_count": null,
   "metadata": {},
   "outputs": [],
   "source": []
  }
 ],
 "metadata": {
  "kernelspec": {
   "display_name": "Python 3",
   "language": "python",
   "name": "python3"
  },
  "language_info": {
   "codemirror_mode": {
    "name": "ipython",
    "version": 3
   },
   "file_extension": ".py",
   "mimetype": "text/x-python",
   "name": "python",
   "nbconvert_exporter": "python",
   "pygments_lexer": "ipython3",
   "version": "3.7.4"
  }
 },
 "nbformat": 4,
 "nbformat_minor": 2
}
