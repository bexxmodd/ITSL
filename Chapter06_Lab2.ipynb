{
 "cells": [
  {
   "cell_type": "markdown",
   "metadata": {},
   "source": [
    "# 6.5 Lab 2: Ridge Regression and the Lasso\n",
    "\n",
    "\n",
    "\n",
    "<div class=\"alert alert-block alert-info\" style=\"margin-top: 20px\">\n",
    "    <ol>\n",
    "        <li><a href=\"#6.6.1-Ridge-Regression\">Ridge Regression</a></li>\n",
    "        <li><a href=\"#6.6.2-The-Lasso\">The Lasso</a></li>\n",
    "    </ol>\n",
    "</div>\n",
    "\n",
    "\n",
    "We will now perform ridge regression and the lasso in order to predict **Salary** on the **Hitters** data. Before proceeding ensure that the missing values have been removed from the data.\n",
    "\n",
    "> You can download **Hitters** data set for from **[here.](https://drive.google.com/file/d/1e2NqNJGkCTAGBee8JHGNGCJHplG5R2YQ/view?usp=sharing)**"
   ]
  },
  {
   "cell_type": "code",
   "execution_count": 1,
   "metadata": {},
   "outputs": [],
   "source": [
    "import pandas as pd\n",
    "import numpy as np\n",
    "import matplotlib.pyplot as plt\n",
    "import seaborn as sns\n",
    "%matplotlib inline"
   ]
  },
  {
   "cell_type": "code",
   "execution_count": 2,
   "metadata": {},
   "outputs": [],
   "source": [
    "from sklearn.preprocessing import LabelEncoder \n",
    "from sklearn.model_selection import train_test_split\n",
    "from sklearn.linear_model import Ridge, RidgeCV, Lasso, LassoCV\n",
    "from sklearn.metrics import mean_squared_error\n",
    "from sklearn.preprocessing import scale"
   ]
  },
  {
   "cell_type": "code",
   "execution_count": 3,
   "metadata": {},
   "outputs": [
    {
     "data": {
      "text/plain": [
       "(322, 20)"
      ]
     },
     "execution_count": 3,
     "metadata": {},
     "output_type": "execute_result"
    }
   ],
   "source": [
    "hitters = pd.read_csv('Hitters.csv')\n",
    "hitters.shape"
   ]
  },
  {
   "cell_type": "code",
   "execution_count": 4,
   "metadata": {},
   "outputs": [
    {
     "data": {
      "text/plain": [
       "59"
      ]
     },
     "execution_count": 4,
     "metadata": {},
     "output_type": "execute_result"
    }
   ],
   "source": [
    "hitters.Salary.isna().sum() # number of NaN valeus in Salary column"
   ]
  },
  {
   "cell_type": "code",
   "execution_count": 5,
   "metadata": {},
   "outputs": [
    {
     "data": {
      "text/plain": [
       "(263, 20)"
      ]
     },
     "execution_count": 5,
     "metadata": {},
     "output_type": "execute_result"
    }
   ],
   "source": [
    "hitters = hitters.dropna(axis=0)\n",
    "hitters.shape"
   ]
  },
  {
   "cell_type": "code",
   "execution_count": 6,
   "metadata": {},
   "outputs": [],
   "source": [
    "X = hitters.loc[:, hitters.columns != 'Salary']\n",
    "y = hitters['Salary']"
   ]
  },
  {
   "cell_type": "code",
   "execution_count": 7,
   "metadata": {},
   "outputs": [],
   "source": [
    "def get_index(df):\n",
    "    col_index = {}\n",
    "    column = df.columns\n",
    "    for col in column:\n",
    "        col_index[col] = df.columns.get_loc(col)\n",
    "    return col_index"
   ]
  },
  {
   "cell_type": "code",
   "execution_count": 8,
   "metadata": {},
   "outputs": [
    {
     "name": "stdout",
     "output_type": "stream",
     "text": [
      "{'AtBat': 0, 'Hits': 1, 'HmRun': 2, 'Runs': 3, 'RBI': 4, 'Walks': 5, 'Years': 6, 'CAtBat': 7, 'CHits': 8, 'CHmRun': 9, 'CRuns': 10, 'CRBI': 11, 'CWalks': 12, 'League': 13, 'Division': 14, 'PutOuts': 15, 'Assists': 16, 'Errors': 17, 'NewLeague': 18}\n"
     ]
    }
   ],
   "source": [
    "column_index = get_index(X)\n",
    "print(column_index)"
   ]
  },
  {
   "cell_type": "code",
   "execution_count": 9,
   "metadata": {},
   "outputs": [],
   "source": [
    "def label_encoder(df, index):\n",
    "    \"\"\"\n",
    "    We will covnert categorical values into the dummies\n",
    "    using LabelEncoder from scikit-learn\n",
    "\n",
    "    \"\"\"\n",
    "    le = LabelEncoder()\n",
    "    for c in index:\n",
    "        df.iloc[:, c] = le.fit_transform(df.iloc[:, c])\n",
    "    return df"
   ]
  },
  {
   "cell_type": "code",
   "execution_count": 10,
   "metadata": {},
   "outputs": [
    {
     "name": "stderr",
     "output_type": "stream",
     "text": [
      "F:\\Anaconda3\\lib\\site-packages\\pandas\\core\\indexing.py:494: SettingWithCopyWarning: \n",
      "A value is trying to be set on a copy of a slice from a DataFrame.\n",
      "Try using .loc[row_indexer,col_indexer] = value instead\n",
      "\n",
      "See the caveats in the documentation: http://pandas.pydata.org/pandas-docs/stable/user_guide/indexing.html#returning-a-view-versus-a-copy\n",
      "  self.obj[item] = s\n"
     ]
    }
   ],
   "source": [
    "X = label_encoder(X, [13, 14, 18]) # running previously defined function will turn categorical variables into dummies"
   ]
  },
  {
   "cell_type": "code",
   "execution_count": 11,
   "metadata": {},
   "outputs": [
    {
     "data": {
      "text/html": [
       "<div>\n",
       "<style scoped>\n",
       "    .dataframe tbody tr th:only-of-type {\n",
       "        vertical-align: middle;\n",
       "    }\n",
       "\n",
       "    .dataframe tbody tr th {\n",
       "        vertical-align: top;\n",
       "    }\n",
       "\n",
       "    .dataframe thead th {\n",
       "        text-align: right;\n",
       "    }\n",
       "</style>\n",
       "<table border=\"1\" class=\"dataframe\">\n",
       "  <thead>\n",
       "    <tr style=\"text-align: right;\">\n",
       "      <th></th>\n",
       "      <th>AtBat</th>\n",
       "      <th>Hits</th>\n",
       "      <th>HmRun</th>\n",
       "      <th>Runs</th>\n",
       "      <th>RBI</th>\n",
       "      <th>Walks</th>\n",
       "      <th>Years</th>\n",
       "      <th>CAtBat</th>\n",
       "      <th>CHits</th>\n",
       "      <th>CHmRun</th>\n",
       "      <th>CRuns</th>\n",
       "      <th>CRBI</th>\n",
       "      <th>CWalks</th>\n",
       "      <th>League</th>\n",
       "      <th>Division</th>\n",
       "      <th>PutOuts</th>\n",
       "      <th>Assists</th>\n",
       "      <th>Errors</th>\n",
       "      <th>NewLeague</th>\n",
       "    </tr>\n",
       "  </thead>\n",
       "  <tbody>\n",
       "    <tr>\n",
       "      <td>-Alan Ashby</td>\n",
       "      <td>315</td>\n",
       "      <td>81</td>\n",
       "      <td>7</td>\n",
       "      <td>24</td>\n",
       "      <td>38</td>\n",
       "      <td>39</td>\n",
       "      <td>14</td>\n",
       "      <td>3449</td>\n",
       "      <td>835</td>\n",
       "      <td>69</td>\n",
       "      <td>321</td>\n",
       "      <td>414</td>\n",
       "      <td>375</td>\n",
       "      <td>1</td>\n",
       "      <td>1</td>\n",
       "      <td>632</td>\n",
       "      <td>43</td>\n",
       "      <td>10</td>\n",
       "      <td>1</td>\n",
       "    </tr>\n",
       "    <tr>\n",
       "      <td>-Alvin Davis</td>\n",
       "      <td>479</td>\n",
       "      <td>130</td>\n",
       "      <td>18</td>\n",
       "      <td>66</td>\n",
       "      <td>72</td>\n",
       "      <td>76</td>\n",
       "      <td>3</td>\n",
       "      <td>1624</td>\n",
       "      <td>457</td>\n",
       "      <td>63</td>\n",
       "      <td>224</td>\n",
       "      <td>266</td>\n",
       "      <td>263</td>\n",
       "      <td>0</td>\n",
       "      <td>1</td>\n",
       "      <td>880</td>\n",
       "      <td>82</td>\n",
       "      <td>14</td>\n",
       "      <td>0</td>\n",
       "    </tr>\n",
       "    <tr>\n",
       "      <td>-Andre Dawson</td>\n",
       "      <td>496</td>\n",
       "      <td>141</td>\n",
       "      <td>20</td>\n",
       "      <td>65</td>\n",
       "      <td>78</td>\n",
       "      <td>37</td>\n",
       "      <td>11</td>\n",
       "      <td>5628</td>\n",
       "      <td>1575</td>\n",
       "      <td>225</td>\n",
       "      <td>828</td>\n",
       "      <td>838</td>\n",
       "      <td>354</td>\n",
       "      <td>1</td>\n",
       "      <td>0</td>\n",
       "      <td>200</td>\n",
       "      <td>11</td>\n",
       "      <td>3</td>\n",
       "      <td>1</td>\n",
       "    </tr>\n",
       "  </tbody>\n",
       "</table>\n",
       "</div>"
      ],
      "text/plain": [
       "               AtBat  Hits  HmRun  Runs  RBI  Walks  Years  CAtBat  CHits  \\\n",
       "-Alan Ashby      315    81      7    24   38     39     14    3449    835   \n",
       "-Alvin Davis     479   130     18    66   72     76      3    1624    457   \n",
       "-Andre Dawson    496   141     20    65   78     37     11    5628   1575   \n",
       "\n",
       "               CHmRun  CRuns  CRBI  CWalks  League  Division  PutOuts  \\\n",
       "-Alan Ashby        69    321   414     375       1         1      632   \n",
       "-Alvin Davis       63    224   266     263       0         1      880   \n",
       "-Andre Dawson     225    828   838     354       1         0      200   \n",
       "\n",
       "               Assists  Errors  NewLeague  \n",
       "-Alan Ashby         43      10          1  \n",
       "-Alvin Davis        82      14          0  \n",
       "-Andre Dawson       11       3          1  "
      ]
     },
     "execution_count": 11,
     "metadata": {},
     "output_type": "execute_result"
    }
   ],
   "source": [
    "X.head(3)"
   ]
  },
  {
   "cell_type": "code",
   "execution_count": 12,
   "metadata": {},
   "outputs": [
    {
     "data": {
      "text/plain": [
       "Index(['AtBat', 'Hits', 'HmRun', 'Runs', 'RBI', 'Walks', 'Years', 'CAtBat',\n",
       "       'CHits', 'CHmRun', 'CRuns', 'CRBI', 'CWalks', 'League', 'Division',\n",
       "       'PutOuts', 'Assists', 'Errors', 'NewLeague'],\n",
       "      dtype='object')"
      ]
     },
     "execution_count": 12,
     "metadata": {},
     "output_type": "execute_result"
    }
   ],
   "source": [
    "X.columns"
   ]
  },
  {
   "cell_type": "markdown",
   "metadata": {},
   "source": [
    "----\n",
    "\n",
    "## _6.6.1 Ridge Regression_\n",
    "\n",
    "`Ridge` method from `sklearn` performs ridge regression for an automatically selected range of $\\lambda$. However, here we have chosen to implement the function over a grid of values ranging $\\lambda=10^{10}$ to $\\lambda=10^{-2}$, essentially covering the full range of scenarios from the null model containing only the intercept, to the least-squares fit."
   ]
  },
  {
   "cell_type": "code",
   "execution_count": 13,
   "metadata": {},
   "outputs": [
    {
     "data": {
      "text/plain": [
       "array([5.00000000e+09, 3.78231664e+09, 2.86118383e+09, 2.16438064e+09,\n",
       "       1.63727458e+09, 1.23853818e+09, 9.36908711e+08, 7.08737081e+08,\n",
       "       5.36133611e+08, 4.05565415e+08, 3.06795364e+08, 2.32079442e+08,\n",
       "       1.75559587e+08, 1.32804389e+08, 1.00461650e+08, 7.59955541e+07,\n",
       "       5.74878498e+07, 4.34874501e+07, 3.28966612e+07, 2.48851178e+07,\n",
       "       1.88246790e+07, 1.42401793e+07, 1.07721735e+07, 8.14875417e+06,\n",
       "       6.16423370e+06, 4.66301673e+06, 3.52740116e+06, 2.66834962e+06,\n",
       "       2.01850863e+06, 1.52692775e+06, 1.15506485e+06, 8.73764200e+05,\n",
       "       6.60970574e+05, 5.00000000e+05, 3.78231664e+05, 2.86118383e+05,\n",
       "       2.16438064e+05, 1.63727458e+05, 1.23853818e+05, 9.36908711e+04,\n",
       "       7.08737081e+04, 5.36133611e+04, 4.05565415e+04, 3.06795364e+04,\n",
       "       2.32079442e+04, 1.75559587e+04, 1.32804389e+04, 1.00461650e+04,\n",
       "       7.59955541e+03, 5.74878498e+03, 4.34874501e+03, 3.28966612e+03,\n",
       "       2.48851178e+03, 1.88246790e+03, 1.42401793e+03, 1.07721735e+03,\n",
       "       8.14875417e+02, 6.16423370e+02, 4.66301673e+02, 3.52740116e+02,\n",
       "       2.66834962e+02, 2.01850863e+02, 1.52692775e+02, 1.15506485e+02,\n",
       "       8.73764200e+01, 6.60970574e+01, 5.00000000e+01, 3.78231664e+01,\n",
       "       2.86118383e+01, 2.16438064e+01, 1.63727458e+01, 1.23853818e+01,\n",
       "       9.36908711e+00, 7.08737081e+00, 5.36133611e+00, 4.05565415e+00,\n",
       "       3.06795364e+00, 2.32079442e+00, 1.75559587e+00, 1.32804389e+00,\n",
       "       1.00461650e+00, 7.59955541e-01, 5.74878498e-01, 4.34874501e-01,\n",
       "       3.28966612e-01, 2.48851178e-01, 1.88246790e-01, 1.42401793e-01,\n",
       "       1.07721735e-01, 8.14875417e-02, 6.16423370e-02, 4.66301673e-02,\n",
       "       3.52740116e-02, 2.66834962e-02, 2.01850863e-02, 1.52692775e-02,\n",
       "       1.15506485e-02, 8.73764200e-03, 6.60970574e-03, 5.00000000e-03])"
      ]
     },
     "execution_count": 13,
     "metadata": {},
     "output_type": "execute_result"
    }
   ],
   "source": [
    "grid = 10**np.linspace(10, -2, 100)*0.5\n",
    "grid"
   ]
  },
  {
   "cell_type": "markdown",
   "metadata": {},
   "source": [
    "We will build a function `ridge_coefs` to run models for the $\\lambda$ values defined in the previous step."
   ]
  },
  {
   "cell_type": "code",
   "execution_count": 14,
   "metadata": {},
   "outputs": [],
   "source": [
    "def ridge_coefs(X, y, alphas):\n",
    "    \n",
    "    coefs = []\n",
    "    ridge = Ridge(normalize = True)\n",
    "    \n",
    "    for a in alphas:\n",
    "        ridge.set_params(alpha = a)\n",
    "        ridge.fit(X, y)\n",
    "        coefs.append(ridge.coef_)\n",
    "        \n",
    "    return coefs"
   ]
  },
  {
   "cell_type": "code",
   "execution_count": 15,
   "metadata": {},
   "outputs": [],
   "source": [
    "ridge_coefs = ridge_coefs(X, y, grid)"
   ]
  },
  {
   "cell_type": "code",
   "execution_count": 16,
   "metadata": {},
   "outputs": [
    {
     "name": "stdout",
     "output_type": "stream",
     "text": [
      "(100, 19)\n"
     ]
    }
   ],
   "source": [
    "print(np.shape(ridge_coefs))"
   ]
  },
  {
   "cell_type": "markdown",
   "metadata": {},
   "source": [
    "Associated with each value of $\\lambda$ is a vector of ridge regression coefficients, stored in a matrix that can be accessed by `coefs` in the below function. In this case, it is a 19×100 matrix, with 19 rows (one for each predictor, plus an intercept) and 100 columns (one for each value of $\\lambda$)."
   ]
  },
  {
   "cell_type": "code",
   "execution_count": 17,
   "metadata": {},
   "outputs": [
    {
     "data": {
      "text/plain": [
       "Text(0, 0.5, 'weights')"
      ]
     },
     "execution_count": 17,
     "metadata": {},
     "output_type": "execute_result"
    },
    {
     "data": {
      "image/png": "[encoded data removed]",
      "text/plain": [
       "<Figure size 432x288 with 1 Axes>"
      ]
     },
     "metadata": {
      "needs_background": "light"
     },
     "output_type": "display_data"
    }
   ],
   "source": [
    "ax = plt.gca()\n",
    "ax.plot(grid, ridge_coefs)\n",
    "ax.set_xscale('log')\n",
    "plt.axis('tight')\n",
    "plt.xlabel('lambda')\n",
    "plt.ylabel('weights')"
   ]
  },
  {
   "cell_type": "markdown",
   "metadata": {},
   "source": [
    "We expect the coefficient estimates to be much smaller, in terms of $l_2$ norm, when a large value of $\\lambda$ is used, as compared to when a small value of $\\lambda$ is used.\n",
    "\n",
    "We now split the samples into a training set and a test set in order to estimate the test error of ridge regression and the lasso. We will use `train_test_split` method from `sklearn` to split the model in half."
   ]
  },
  {
   "cell_type": "code",
   "execution_count": 18,
   "metadata": {},
   "outputs": [],
   "source": [
    "# we split the training and test data\n",
    "from sklearn.model_selection import train_test_split\n",
    "X_train, X_test , y_train, y_test = train_test_split(X, y, test_size=0.5, random_state=1)"
   ]
  },
  {
   "cell_type": "markdown",
   "metadata": {},
   "source": [
    "Next, we fit a ridge regression model on the training set, and evaluate its MSE on the test set, using $\\lambda$ = 4. Note the use of the `predict()` function again."
   ]
  },
  {
   "cell_type": "code",
   "execution_count": 19,
   "metadata": {},
   "outputs": [
    {
     "name": "stdout",
     "output_type": "stream",
     "text": [
      "AtBat         0.098658\n",
      "Hits          0.446094\n",
      "HmRun         1.412107\n",
      "Runs          0.660773\n",
      "RBI           0.843403\n",
      "Walks         1.008473\n",
      "Years         2.779882\n",
      "CAtBat        0.008244\n",
      "CHits         0.034149\n",
      "CHmRun        0.268634\n",
      "CRuns         0.070407\n",
      "CRBI          0.070060\n",
      "CWalks        0.082795\n",
      "League        4.241051\n",
      "Division    -30.768885\n",
      "PutOuts       0.104747\n",
      "Assists      -0.003739\n",
      "Errors        0.268363\n",
      "NewLeague     4.123474\n",
      "dtype: float64\n",
      "\n",
      "MSE:  106216.52238005561\n"
     ]
    }
   ],
   "source": [
    "ridge2 = Ridge(normalize = True, alpha = 4)\n",
    "ridge2.fit(X_train, y_train)\n",
    "ridge2_pred = ridge2.predict(X_test)\n",
    "\n",
    "print(pd.Series(ridge2.coef_, index = X.columns)) # Print coefficients\n",
    "print('\\nMSE: ', mean_squared_error(y_test, ridge2_pred)) # MSE of the model"
   ]
  },
  {
   "cell_type": "markdown",
   "metadata": {},
   "source": [
    "* The test MSE is 106216.52\n",
    "\n",
    "Note that if we had instead simply fit a model with just an intercept.\n",
    "\n",
    "Now let's look at the MSE value resulting by fitting a ridge regression model with a very large value of $\\lambda$. Note that 1e10 means 1010."
   ]
  },
  {
   "cell_type": "code",
   "execution_count": 20,
   "metadata": {},
   "outputs": [
    {
     "name": "stdout",
     "output_type": "stream",
     "text": [
      "AtBat        1.317464e-10\n",
      "Hits         4.647486e-10\n",
      "HmRun        2.079865e-09\n",
      "Runs         7.726175e-10\n",
      "RBI          9.390640e-10\n",
      "Walks        9.769219e-10\n",
      "Years        3.961442e-09\n",
      "CAtBat       1.060533e-11\n",
      "CHits        3.993605e-11\n",
      "CHmRun       2.959428e-10\n",
      "CRuns        8.245247e-11\n",
      "CRBI         7.795451e-11\n",
      "CWalks       9.894387e-11\n",
      "League      -2.501281e-09\n",
      "Division    -1.549951e-08\n",
      "PutOuts      7.268991e-11\n",
      "Assists     -2.615885e-12\n",
      "Errors       2.084514e-10\n",
      "NewLeague   -2.023196e-09\n",
      "dtype: float64\n",
      "\n",
      "MSE:  172862.23580379886\n"
     ]
    }
   ],
   "source": [
    "ridge3 = Ridge(normalize = True, alpha = 1e10)\n",
    "ridge3.fit(X_train, y_train)\n",
    "ridge3_pred = ridge3.predict(X_test)\n",
    "\n",
    "print(pd.Series(ridge3.coef_, index = X.columns)) # Print coefficients\n",
    "print('\\nMSE: ', mean_squared_error(y_test, ridge3_pred)) # MSE of the model"
   ]
  },
  {
   "cell_type": "markdown",
   "metadata": {},
   "source": [
    "* The test MSE is 172862\n",
    "\n",
    "So fitting a ridge regression model with $\\lambda$ = 4 leads to a much lower test MSE than fitting a model with just an intercept. We now check whether there is any benefit to performing ridge regression with $\\lambda$ = 4 instead of just performing least squares regression.\n",
    "\n",
    "Recall that least squares is simply ridge regression with $\\lambda$ = 0."
   ]
  },
  {
   "cell_type": "code",
   "execution_count": 21,
   "metadata": {},
   "outputs": [
    {
     "name": "stdout",
     "output_type": "stream",
     "text": [
      "AtBat         -1.821115\n",
      "Hits           4.259156\n",
      "HmRun         -4.773401\n",
      "Runs          -0.038760\n",
      "RBI            3.984578\n",
      "Walks          3.470126\n",
      "Years          9.498236\n",
      "CAtBat        -0.605129\n",
      "CHits          2.174979\n",
      "CHmRun         2.979306\n",
      "CRuns          0.266356\n",
      "CRBI          -0.598456\n",
      "CWalks         0.171383\n",
      "League       133.743163\n",
      "Division    -113.743875\n",
      "PutOuts        0.421063\n",
      "Assists        0.464379\n",
      "Errors        -6.024576\n",
      "NewLeague    -81.927763\n",
      "dtype: float64\n",
      "\n",
      "MSE:  116690.46856659841\n"
     ]
    }
   ],
   "source": [
    "ridge4= Ridge(normalize = True, alpha = 0)\n",
    "ridge4.fit(X_train, y_train)\n",
    "ridge4_pred = ridge4.predict(X_test)\n",
    "\n",
    "print(pd.Series(ridge4.coef_, index = X.columns)) # Print coefficients\n",
    "print('\\nMSE: ', mean_squared_error(y_test, ridge4_pred)) # MSE of the model"
   ]
  },
  {
   "cell_type": "markdown",
   "metadata": {},
   "source": [
    "We see that ridge regression with $\\lambda$ = 4 indeed improves model over the simple least-squares model.\n",
    "\n",
    "In general, instead of arbitrarily choosing $\\lambda$ = 4, it would be better to use cross-validation to choose the tuning parameter $\\lambda$. We can do this using the built-in cross-validation function, `RidgeCV`."
   ]
  },
  {
   "cell_type": "code",
   "execution_count": 22,
   "metadata": {},
   "outputs": [
    {
     "name": "stdout",
     "output_type": "stream",
     "text": [
      "Lambda that results in lowest CV error:  0.5749\n"
     ]
    },
    {
     "name": "stderr",
     "output_type": "stream",
     "text": [
      "F:\\Anaconda3\\lib\\site-packages\\sklearn\\model_selection\\_search.py:814: DeprecationWarning: The default of the `iid` parameter will change from True to False in version 0.22 and will be removed in 0.24. This will change numeric results when test-set sizes are unequal.\n",
      "  DeprecationWarning)\n"
     ]
    }
   ],
   "source": [
    "ridge_cv = RidgeCV(alphas = grid, scoring = 'neg_mean_squared_error', normalize=True, cv=10)\n",
    "ridge_cv.fit(X_train, y_train)\n",
    "print('Lambda that results in lowest CV error: ', round(ridge_cv.alpha_, 4))"
   ]
  },
  {
   "cell_type": "markdown",
   "metadata": {},
   "source": [
    "What is the test MSE associated with this value of $\\lambda$?"
   ]
  },
  {
   "cell_type": "code",
   "execution_count": 23,
   "metadata": {},
   "outputs": [
    {
     "data": {
      "text/plain": [
       "99825.6489629273"
      ]
     },
     "execution_count": 23,
     "metadata": {},
     "output_type": "execute_result"
    }
   ],
   "source": [
    "ridge5 = Ridge(alpha = ridge_cv.alpha_, normalize = True)\n",
    "ridge5.fit(X_train, y_train)\n",
    "mean_squared_error(y_test, ridge5.predict(X_test))"
   ]
  },
  {
   "cell_type": "markdown",
   "metadata": {},
   "source": [
    "This represents a further improvement over the test MSE that we got using $\\lambda$ = 4. Finally, we refit our ridge regression model on the full data set, using the value of $\\lambda$ chosen by cross-validation, and examine the coefficient estimates."
   ]
  },
  {
   "cell_type": "code",
   "execution_count": 24,
   "metadata": {},
   "outputs": [
    {
     "name": "stdout",
     "output_type": "stream",
     "text": [
      "AtBat        -0.013534\n",
      "Hits          0.864143\n",
      "HmRun        -0.291615\n",
      "Runs          0.721999\n",
      "RBI           1.318149\n",
      "Walks         2.092914\n",
      "Years         1.200022\n",
      "CAtBat        0.006651\n",
      "CHits         0.052020\n",
      "CHmRun        0.513053\n",
      "CRuns         0.106745\n",
      "CRBI          0.128286\n",
      "CWalks        0.098953\n",
      "League       18.915652\n",
      "Division    -92.175508\n",
      "PutOuts       0.280247\n",
      "Assists      -0.017241\n",
      "Errors       -0.315756\n",
      "NewLeague     9.936172\n",
      "dtype: float64\n"
     ]
    }
   ],
   "source": [
    "print(pd.Series(ridge5.coef_, index = X.columns))"
   ]
  },
  {
   "cell_type": "markdown",
   "metadata": {},
   "source": [
    "As expected, none of the coefficients are zero—ridge regression does not perform variable selection!\n",
    "\n",
    "-------\n",
    "## _6.6.2 The Lasso_\n",
    "\n",
    "We saw that ridge regression with a wise choice of $\\lambda$ can outperform the least squares as well as the null model on the Hitters data set. We now ask whether the lasso can yield either a more accurate or a more interpretable model than ridge regression. In order to fit a lasso model, we use `Lasso` method from `sklearn` library. Other than that change, we proceed just as we did in fitting a ridge model."
   ]
  },
  {
   "cell_type": "code",
   "execution_count": 25,
   "metadata": {},
   "outputs": [],
   "source": [
    "def lasso_coefs(X, y, grid):\n",
    "    \n",
    "    lasso_coefs = []\n",
    "    lasso = Lasso(max_iter=100000, normalize=True) # setup maximum iterations to 100000\n",
    "    \n",
    "    for g in grid:\n",
    "        lasso.set_params(alpha = g)\n",
    "        lasso.fit(X, y)\n",
    "        lasso_coefs.append(lasso.coef_)\n",
    "        \n",
    "    return lasso_coefs"
   ]
  },
  {
   "cell_type": "code",
   "execution_count": 26,
   "metadata": {},
   "outputs": [],
   "source": [
    "lasso_coef = lasso_coefs(scale(X_train), y_train, grid)"
   ]
  },
  {
   "cell_type": "code",
   "execution_count": 27,
   "metadata": {},
   "outputs": [
    {
     "data": {
      "text/plain": [
       "Text(0, 0.5, 'weights')"
      ]
     },
     "execution_count": 27,
     "metadata": {},
     "output_type": "execute_result"
    },
    {
     "data": {
      "image/png": "[encoded data removed]",
      "text/plain": [
       "<Figure size 432x288 with 1 Axes>"
      ]
     },
     "metadata": {
      "needs_background": "light"
     },
     "output_type": "display_data"
    }
   ],
   "source": [
    "ax = plt.gca()\n",
    "ax.plot(grid*2, lasso_coef)\n",
    "ax.set_xscale('log')\n",
    "plt.axis('tight')\n",
    "plt.xlabel('alpha')\n",
    "plt.ylabel('weights')"
   ]
  },
  {
   "cell_type": "markdown",
   "metadata": {},
   "source": [
    "We can see from the coefficient plot that depending on the choice of tuning parameter, some of the coefficients will be exactly equal to zero. We now perform cross-validation and compute the associated test error."
   ]
  },
  {
   "cell_type": "code",
   "execution_count": 28,
   "metadata": {},
   "outputs": [
    {
     "name": "stdout",
     "output_type": "stream",
     "text": [
      "Lambda that results in lowest CV error is:  2.403\n"
     ]
    }
   ],
   "source": [
    "lasso_cv = LassoCV(alphas=None, normalize=True, cv=10, max_iter = 100000)\n",
    "lasso_cv.fit(X_train, y_train)\n",
    "print('Lambda that results in lowest CV error is: ', round(lasso_cv.alpha_, 4))"
   ]
  },
  {
   "cell_type": "code",
   "execution_count": 29,
   "metadata": {},
   "outputs": [
    {
     "data": {
      "text/plain": [
       "104960.66341829994"
      ]
     },
     "execution_count": 29,
     "metadata": {},
     "output_type": "execute_result"
    }
   ],
   "source": [
    "lasso = Lasso(max_iter = 10000, normalize = True)\n",
    "lasso.set_params(alpha=lasso_cv.alpha_)\n",
    "lasso_pred = lasso.fit(X_train, y_train).predict(X_test)\n",
    "mean_squared_error(y_test, lasso_pred)"
   ]
  },
  {
   "cell_type": "markdown",
   "metadata": {},
   "source": [
    "This is substantially lower than the test set MSE of the null model and of the least-squares, and very similar to the test MSE of ridge regression with $\\lambda$ chosen by cross-validation.\n",
    "\n",
    "However, the lasso has a substantial advantage over ridge regression in that the resulting coefficient estimates are sparse. Here we see that 12 of the 19 coefficient estimates are exactly zero. So the lasso model with $\\lambda$ chosen by cross-validation contains only seven variables."
   ]
  },
  {
   "cell_type": "code",
   "execution_count": 30,
   "metadata": {},
   "outputs": [
    {
     "data": {
      "text/plain": [
       "AtBat         0.000000\n",
       "Hits          1.082448\n",
       "HmRun         0.000000\n",
       "Runs          0.000000\n",
       "RBI           0.000000\n",
       "Walks         2.906385\n",
       "Years         0.000000\n",
       "CAtBat        0.000000\n",
       "CHits         0.000000\n",
       "CHmRun        0.219372\n",
       "CRuns         0.000000\n",
       "CRBI          0.513974\n",
       "CWalks        0.000000\n",
       "League        0.000000\n",
       "Division    -89.064199\n",
       "PutOuts       0.368401\n",
       "Assists      -0.000000\n",
       "Errors       -0.000000\n",
       "NewLeague     0.000000\n",
       "dtype: float64"
      ]
     },
     "execution_count": 30,
     "metadata": {},
     "output_type": "execute_result"
    }
   ],
   "source": [
    "pd.Series(lasso.coef_, index=X.columns)"
   ]
  },
  {
   "cell_type": "code",
   "execution_count": null,
   "metadata": {},
   "outputs": [],
   "source": []
  }
 ],
 "metadata": {
  "kernelspec": {
   "display_name": "Python 3",
   "language": "python",
   "name": "python3"
  },
  "language_info": {
   "codemirror_mode": {
    "name": "ipython",
    "version": 3
   },
   "file_extension": ".py",
   "mimetype": "text/x-python",
   "name": "python",
   "nbconvert_exporter": "python",
   "pygments_lexer": "ipython3",
   "version": "3.7.4"
  }
 },
 "nbformat": 4,
 "nbformat_minor": 2
}
