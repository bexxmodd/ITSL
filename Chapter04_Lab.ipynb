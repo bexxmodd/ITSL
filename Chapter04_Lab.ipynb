{
 "cells": [
  {
   "cell_type": "markdown",
   "metadata": {},
   "source": [
    "# 4.6 Lab: Logistic Regression, LDA, QDA, and KNN\n",
    "\n",
    "\n",
    "<div class=\"alert alert-block alert-info\" style=\"margin-top: 20px\">\n",
    "    <ol>\n",
    "        <li><a href=\"#4.6.1-The-Stock-Market-Data\">The Stock Market Data</a></li>\n",
    "        <li><a href=\"#4.6.2-Logistic-Regression\">Logistic Regressionn</a></li>\n",
    "        <li><a href=\"#4.6.3-Linear-Discriminant-Analysis\">Linear Discriminant Analysis</a></li>\n",
    "        <li><a href=\"#4.6.4-Quadratic-Discriminant-Analysis\">Quadratic Discriminant Analysis</a></li>\n",
    "        <li><a href=\"#4.6.5-K-Nearest-Neighbors\">K-Nearest Neighbors</a></li>\n",
    "        <li><a href=\"#4.6.6 An Application to Caravan Insurance Data\">An Application to Caravan Insurance Data</a></li>\n",
    "    </ol>\n",
    "</div>\n",
    "\n",
    "\n",
    " You can download for from **[here](https://drive.google.com/file/d/1WlYoNaYCRvf7n810_q71oYNxf5XctMF5/view?usp=sharing)**"
   ]
  },
  {
   "cell_type": "markdown",
   "metadata": {},
   "source": [
    "## _4.6.1 The Stock Market Data_\n",
    "We start by examining the ***Smarket*** data. This data set consists of percentage returns for the S&P 500 stock index over 1, 250 days, from the beginning of 2001 until the end of 2005. For each date, we have recorded the percentage returns for each of the five previous trading days, ***Lag1*** through ***Lag5***.\n",
    "\n",
    "We also have:\n",
    "\n",
    "Variable | Description |\n",
    ":---|:---\n",
    "**Volume** | the number of shares traded on the previous day, in billions\n",
    "**Today** | the percentage return on the date in question\n",
    "**Direction** | whether the market was *Up* or *Down* on this date"
   ]
  },
  {
   "cell_type": "code",
   "execution_count": 1,
   "metadata": {},
   "outputs": [],
   "source": [
    "import pandas as pd\n",
    "import numpy as np\n",
    "import matplotlib.pyplot as plt\n",
    "import seaborn as sns\n",
    "%matplotlib inline"
   ]
  },
  {
   "cell_type": "markdown",
   "metadata": {},
   "source": [
    "We import dataset and exam its content."
   ]
  },
  {
   "cell_type": "code",
   "execution_count": 2,
   "metadata": {},
   "outputs": [
    {
     "data": {
      "text/html": [
       "<div>\n",
       "<style scoped>\n",
       "    .dataframe tbody tr th:only-of-type {\n",
       "        vertical-align: middle;\n",
       "    }\n",
       "\n",
       "    .dataframe tbody tr th {\n",
       "        vertical-align: top;\n",
       "    }\n",
       "\n",
       "    .dataframe thead th {\n",
       "        text-align: right;\n",
       "    }\n",
       "</style>\n",
       "<table border=\"1\" class=\"dataframe\">\n",
       "  <thead>\n",
       "    <tr style=\"text-align: right;\">\n",
       "      <th></th>\n",
       "      <th>Year</th>\n",
       "      <th>Lag1</th>\n",
       "      <th>Lag2</th>\n",
       "      <th>Lag3</th>\n",
       "      <th>Lag4</th>\n",
       "      <th>Lag5</th>\n",
       "      <th>Volume</th>\n",
       "      <th>Today</th>\n",
       "      <th>Direction</th>\n",
       "    </tr>\n",
       "  </thead>\n",
       "  <tbody>\n",
       "    <tr>\n",
       "      <td>0</td>\n",
       "      <td>2001</td>\n",
       "      <td>0.381</td>\n",
       "      <td>-0.192</td>\n",
       "      <td>-2.624</td>\n",
       "      <td>-1.055</td>\n",
       "      <td>5.010</td>\n",
       "      <td>1.1913</td>\n",
       "      <td>0.959</td>\n",
       "      <td>Up</td>\n",
       "    </tr>\n",
       "    <tr>\n",
       "      <td>1</td>\n",
       "      <td>2001</td>\n",
       "      <td>0.959</td>\n",
       "      <td>0.381</td>\n",
       "      <td>-0.192</td>\n",
       "      <td>-2.624</td>\n",
       "      <td>-1.055</td>\n",
       "      <td>1.2965</td>\n",
       "      <td>1.032</td>\n",
       "      <td>Up</td>\n",
       "    </tr>\n",
       "    <tr>\n",
       "      <td>2</td>\n",
       "      <td>2001</td>\n",
       "      <td>1.032</td>\n",
       "      <td>0.959</td>\n",
       "      <td>0.381</td>\n",
       "      <td>-0.192</td>\n",
       "      <td>-2.624</td>\n",
       "      <td>1.4112</td>\n",
       "      <td>-0.623</td>\n",
       "      <td>Down</td>\n",
       "    </tr>\n",
       "  </tbody>\n",
       "</table>\n",
       "</div>"
      ],
      "text/plain": [
       "   Year   Lag1   Lag2   Lag3   Lag4   Lag5  Volume  Today Direction\n",
       "0  2001  0.381 -0.192 -2.624 -1.055  5.010  1.1913  0.959        Up\n",
       "1  2001  0.959  0.381 -0.192 -2.624 -1.055  1.2965  1.032        Up\n",
       "2  2001  1.032  0.959  0.381 -0.192 -2.624  1.4112 -0.623      Down"
      ]
     },
     "execution_count": 2,
     "metadata": {},
     "output_type": "execute_result"
    }
   ],
   "source": [
    "smarket = pd.read_csv('Smarket.csv')\n",
    "smarket.head(3)"
   ]
  },
  {
   "cell_type": "code",
   "execution_count": 3,
   "metadata": {},
   "outputs": [
    {
     "name": "stdout",
     "output_type": "stream",
     "text": [
      "<class 'pandas.core.frame.DataFrame'>\n",
      "RangeIndex: 1250 entries, 0 to 1249\n",
      "Data columns (total 9 columns):\n",
      "Year         1250 non-null int64\n",
      "Lag1         1250 non-null float64\n",
      "Lag2         1250 non-null float64\n",
      "Lag3         1250 non-null float64\n",
      "Lag4         1250 non-null float64\n",
      "Lag5         1250 non-null float64\n",
      "Volume       1250 non-null float64\n",
      "Today        1250 non-null float64\n",
      "Direction    1250 non-null object\n",
      "dtypes: float64(7), int64(1), object(1)\n",
      "memory usage: 88.0+ KB\n"
     ]
    }
   ],
   "source": [
    "smarket.info()"
   ]
  },
  {
   "cell_type": "code",
   "execution_count": 4,
   "metadata": {},
   "outputs": [
    {
     "data": {
      "text/plain": [
       "(1250, 9)"
      ]
     },
     "execution_count": 4,
     "metadata": {},
     "output_type": "execute_result"
    }
   ],
   "source": [
    "smarket.shape"
   ]
  },
  {
   "cell_type": "code",
   "execution_count": 5,
   "metadata": {},
   "outputs": [
    {
     "data": {
      "text/plain": [
       "Index(['Year', 'Lag1', 'Lag2', 'Lag3', 'Lag4', 'Lag5', 'Volume', 'Today',\n",
       "       'Direction'],\n",
       "      dtype='object')"
      ]
     },
     "execution_count": 5,
     "metadata": {},
     "output_type": "execute_result"
    }
   ],
   "source": [
    "smarket.columns"
   ]
  },
  {
   "cell_type": "code",
   "execution_count": 6,
   "metadata": {},
   "outputs": [
    {
     "name": "stdout",
     "output_type": "stream",
     "text": [
      "              Year         Lag1         Lag2         Lag3         Lag4  \\\n",
      "count  1250.000000  1250.000000  1250.000000  1250.000000  1250.000000   \n",
      "mean   2003.016000     0.003834     0.003919     0.001716     0.001636   \n",
      "std       1.409018     1.136299     1.136280     1.138703     1.138774   \n",
      "min    2001.000000    -4.922000    -4.922000    -4.922000    -4.922000   \n",
      "25%    2002.000000    -0.639500    -0.639500    -0.640000    -0.640000   \n",
      "50%    2003.000000     0.039000     0.039000     0.038500     0.038500   \n",
      "75%    2004.000000     0.596750     0.596750     0.596750     0.596750   \n",
      "max    2005.000000     5.733000     5.733000     5.733000     5.733000   \n",
      "\n",
      "             Lag5       Volume        Today  \n",
      "count  1250.00000  1250.000000  1250.000000  \n",
      "mean      0.00561     1.478305     0.003138  \n",
      "std       1.14755     0.360357     1.136334  \n",
      "min      -4.92200     0.356070    -4.922000  \n",
      "25%      -0.64000     1.257400    -0.639500  \n",
      "50%       0.03850     1.422950     0.038500  \n",
      "75%       0.59700     1.641675     0.596750  \n",
      "max       5.73300     3.152470     5.733000  \n"
     ]
    }
   ],
   "source": [
    "print(smarket.describe())"
   ]
  },
  {
   "cell_type": "markdown",
   "metadata": {},
   "source": [
    "We will produce a correlation matrix using the method `.corr()`. This matrix contains all of the pairwise correlations among the predictors in the data set.\n",
    "\n",
    "We'll also plot the correlation heatmap."
   ]
  },
  {
   "cell_type": "code",
   "execution_count": 7,
   "metadata": {},
   "outputs": [
    {
     "name": "stdout",
     "output_type": "stream",
     "text": [
      "            Year      Lag1      Lag2      Lag3      Lag4      Lag5    Volume  \\\n",
      "Year    1.000000  0.029700  0.030596  0.033195  0.035689  0.029788  0.539006   \n",
      "Lag1    0.029700  1.000000 -0.026294 -0.010803 -0.002986 -0.005675  0.040910   \n",
      "Lag2    0.030596 -0.026294  1.000000 -0.025897 -0.010854 -0.003558 -0.043383   \n",
      "Lag3    0.033195 -0.010803 -0.025897  1.000000 -0.024051 -0.018808 -0.041824   \n",
      "Lag4    0.035689 -0.002986 -0.010854 -0.024051  1.000000 -0.027084 -0.048414   \n",
      "Lag5    0.029788 -0.005675 -0.003558 -0.018808 -0.027084  1.000000 -0.022002   \n",
      "Volume  0.539006  0.040910 -0.043383 -0.041824 -0.048414 -0.022002  1.000000   \n",
      "Today   0.030095 -0.026155 -0.010250 -0.002448 -0.006900 -0.034860  0.014592   \n",
      "\n",
      "           Today  \n",
      "Year    0.030095  \n",
      "Lag1   -0.026155  \n",
      "Lag2   -0.010250  \n",
      "Lag3   -0.002448  \n",
      "Lag4   -0.006900  \n",
      "Lag5   -0.034860  \n",
      "Volume  0.014592  \n",
      "Today   1.000000  \n"
     ]
    }
   ],
   "source": [
    "corr = smarket.corr()\n",
    "print(corr)"
   ]
  },
  {
   "cell_type": "code",
   "execution_count": 8,
   "metadata": {},
   "outputs": [
    {
     "data": {
      "text/plain": [
       "<matplotlib.axes._subplots.AxesSubplot at 0x1d8ab194788>"
      ]
     },
     "execution_count": 8,
     "metadata": {},
     "output_type": "execute_result"
    },
    {
     "data": {
      "image/png": "[encoded data removed]",
      "text/plain": [
       "<Figure size 432x288 with 2 Axes>"
      ]
     },
     "metadata": {
      "needs_background": "light"
     },
     "output_type": "display_data"
    }
   ],
   "source": [
    "mask = np.zeros_like(corr)\n",
    "mask[np.triu_indices_from(mask)] = True\n",
    "sns.heatmap(corr, vmin=-1, vmax=1, mask=mask, annot=True, cmap='RdBu_r')"
   ]
  },
  {
   "cell_type": "markdown",
   "metadata": {},
   "source": [
    "* We see that **Direction** was not included. This is because it's a qualitative variable with _Up_ and _Down_ values.\n",
    "* As expected the correlation between the lab variables and today's returns are close to zero\n",
    "* The only apparent correlation is between **Year** and **Volume**\n",
    "\n",
    "Let's plot the data"
   ]
  },
  {
   "cell_type": "code",
   "execution_count": 9,
   "metadata": {},
   "outputs": [
    {
     "data": {
      "image/png": "[encoded data removed]",
      "text/plain": [
       "<Figure size 432x288 with 1 Axes>"
      ]
     },
     "metadata": {
      "needs_background": "light"
     },
     "output_type": "display_data"
    }
   ],
   "source": [
    "plt.scatter(y=smarket['Volume'], x=smarket.index.values, alpha=.3, edgecolors='black', c='grey')\n",
    "plt.xlabel('Index')\n",
    "plt.ylabel('Volume')\n",
    "plt.show()"
   ]
  },
  {
   "cell_type": "markdown",
   "metadata": {},
   "source": [
    "By plotting **Volume** we see that it's increasing over time. In other words, the average number\n",
    "of shares traded daily increased from 2001 to 2005.\n",
    "\n",
    "---------\n",
    "## _4.6.2 Logistic Regression_\n",
    "\n",
    "Next, we will fit a logistic regression model in order to predict **Direction** using **Lag1** through **Lag5** and **Volume**"
   ]
  },
  {
   "cell_type": "code",
   "execution_count": 10,
   "metadata": {},
   "outputs": [],
   "source": [
    "import statsmodels.api as sm\n",
    "import statsmodels.formula.api as smf\n",
    "from patsy import dmatrices"
   ]
  },
  {
   "cell_type": "markdown",
   "metadata": {},
   "source": [
    "First I convert the **Direction** variable to the binary variable. For this one, I will use `sklearn` library."
   ]
  },
  {
   "cell_type": "code",
   "execution_count": 11,
   "metadata": {},
   "outputs": [],
   "source": [
    "from sklearn.preprocessing import LabelEncoder\n",
    "labelencoder = LabelEncoder()\n",
    "smarket['Direction'] = labelencoder.fit_transform(smarket['Direction'])"
   ]
  },
  {
   "cell_type": "markdown",
   "metadata": {},
   "source": [
    "Next I run the logistic regression with all the available regressors"
   ]
  },
  {
   "cell_type": "code",
   "execution_count": 12,
   "metadata": {},
   "outputs": [
    {
     "name": "stdout",
     "output_type": "stream",
     "text": [
      "Optimization terminated successfully.\n",
      "         Current function value: 0.691034\n",
      "         Iterations 4\n",
      "                           Logit Regression Results                           \n",
      "==============================================================================\n",
      "Dep. Variable:              Direction   No. Observations:                 1250\n",
      "Model:                          Logit   Df Residuals:                     1243\n",
      "Method:                           MLE   Df Model:                            6\n",
      "Date:                Sun, 19 Apr 2020   Pseudo R-squ.:                0.002074\n",
      "Time:                        19:31:28   Log-Likelihood:                -863.79\n",
      "converged:                       True   LL-Null:                       -865.59\n",
      "Covariance Type:            nonrobust   LLR p-value:                    0.7319\n",
      "==============================================================================\n",
      "                 coef    std err          z      P>|z|      [0.025      0.975]\n",
      "------------------------------------------------------------------------------\n",
      "const         -0.1260      0.241     -0.523      0.601      -0.598       0.346\n",
      "Lag1          -0.0731      0.050     -1.457      0.145      -0.171       0.025\n",
      "Lag2          -0.0423      0.050     -0.845      0.398      -0.140       0.056\n",
      "Lag3           0.0111      0.050      0.222      0.824      -0.087       0.109\n",
      "Lag4           0.0094      0.050      0.187      0.851      -0.089       0.107\n",
      "Lag5           0.0103      0.050      0.208      0.835      -0.087       0.107\n",
      "Volume         0.1354      0.158      0.855      0.392      -0.175       0.446\n",
      "==============================================================================\n"
     ]
    },
    {
     "name": "stderr",
     "output_type": "stream",
     "text": [
      "F:\\Anaconda3\\lib\\site-packages\\numpy\\core\\fromnumeric.py:2389: FutureWarning: Method .ptp is deprecated and will be removed in a future version. Use numpy.ptp instead.\n",
      "  return ptp(axis=axis, out=out, **kwargs)\n"
     ]
    }
   ],
   "source": [
    "endog = smarket['Direction']\n",
    "exog = smarket[['Lag1','Lag2','Lag3','Lag4','Lag5','Volume']]\n",
    "\n",
    "exog = sm.add_constant(exog) # I add the constant for the intercept\n",
    "logit_model = sm.Logit(endog, exog, data=smarket).fit()\n",
    "print(logit_model.summary())"
   ]
  },
  {
   "cell_type": "markdown",
   "metadata": {},
   "source": [
    "Even though the smallest *p-value* is associated with **Lag1** none of the variables contain any statistical significance.\n",
    "\n",
    "To access separately coefficients of the variables and their *p-values* we will use `.params` and `.pvalues`."
   ]
  },
  {
   "cell_type": "code",
   "execution_count": 13,
   "metadata": {},
   "outputs": [
    {
     "name": "stdout",
     "output_type": "stream",
     "text": [
      "*** Coefficeients ***\n",
      "const    -0.126000\n",
      "Lag1     -0.073074\n",
      "Lag2     -0.042301\n",
      "Lag3      0.011085\n",
      "Lag4      0.009359\n",
      "Lag5      0.010313\n",
      "Volume    0.135441\n",
      "dtype: float64 \n",
      "\n",
      "*** p-Values ***\n",
      "const     0.600700\n",
      "Lag1      0.145232\n",
      "Lag2      0.398352\n",
      "Lag3      0.824334\n",
      "Lag4      0.851445\n",
      "Lag5      0.834998\n",
      "Volume    0.392404\n",
      "dtype: float64 \n",
      "\n"
     ]
    }
   ],
   "source": [
    "print('*** Coefficeients ***')\n",
    "print(logit_model.params, '\\n')\n",
    "print('*** p-Values ***')\n",
    "print(logit_model.pvalues, '\\n')"
   ]
  },
  {
   "cell_type": "markdown",
   "metadata": {},
   "source": [
    "The `.predict()` function can be used to predict the probability that the market will go up, given the values of the predictors.\n",
    "\n",
    "We will look at the first 10 entries."
   ]
  },
  {
   "cell_type": "code",
   "execution_count": 14,
   "metadata": {},
   "outputs": [
    {
     "data": {
      "text/plain": [
       "0    0.507084\n",
       "1    0.481468\n",
       "2    0.481139\n",
       "3    0.515222\n",
       "4    0.510781\n",
       "5    0.506956\n",
       "6    0.492651\n",
       "7    0.509229\n",
       "8    0.517614\n",
       "9    0.488838\n",
       "dtype: float64"
      ]
     },
     "execution_count": 14,
     "metadata": {},
     "output_type": "execute_result"
    }
   ],
   "source": [
    "logit_pred = logit_model.predict(exog)\n",
    "logit_pred[:10]"
   ]
  },
  {
   "cell_type": "markdown",
   "metadata": {},
   "source": [
    "To make a prediction as to whether the market will go up or down on a particular day, we must convert these predicted probabilities into class labels, *Up* or *Down*.\n",
    "\n",
    "For this one, I will create a function which will convert values less than 0.5 to _Down_ and more than 0.5 to _Up_"
   ]
  },
  {
   "cell_type": "code",
   "execution_count": 15,
   "metadata": {},
   "outputs": [],
   "source": [
    "def class_predictions(pred):\n",
    "    for p in pred:\n",
    "        if p > 0.5:\n",
    "            pred[pred == p] = 'Up'\n",
    "        else:\n",
    "            pred[pred == p] = 'Down'\n",
    "    return pred"
   ]
  },
  {
   "cell_type": "code",
   "execution_count": 16,
   "metadata": {},
   "outputs": [
    {
     "name": "stdout",
     "output_type": "stream",
     "text": [
      "0      Up\n",
      "1    Down\n",
      "2    Down\n",
      "3      Up\n",
      "4      Up\n",
      "dtype: object\n"
     ]
    }
   ],
   "source": [
    "pred_direction = class_predictions(logit_pred)\n",
    "print(pred_direction[:5])"
   ]
  },
  {
   "cell_type": "markdown",
   "metadata": {},
   "source": [
    "Given these predictions, we will plot a confusion matrix in order to determine how many observations were correctly or incorrectly classified."
   ]
  },
  {
   "cell_type": "code",
   "execution_count": 17,
   "metadata": {},
   "outputs": [
    {
     "name": "stdout",
     "output_type": "stream",
     "text": [
      "<<< Confusion Matrix >>>\n",
      "\t  Down Up \n",
      "Down \t [145. 141.] \n",
      "Up \t [457. 507.]\n"
     ]
    }
   ],
   "source": [
    "conf_matrix = logit_model.pred_table(threshold=0.5).T\n",
    "print('<<< Confusion Matrix >>>')\n",
    "print('\\t  Down','Up', '\\nDown', '\\t', conf_matrix[0], '\\nUp', '\\t', conf_matrix[1]) # I'm using transpose function to "
   ]
  },
  {
   "cell_type": "markdown",
   "metadata": {},
   "source": [
    "The diagonal elements of the confusion matrix indicate correct predictions, while the off-diagonals represent incorrect predictions. Hence our model correctly predicted that the market would go up on 507 days and that it would go down on 145 days, for a total of 507 + 145 = 652 correct predictions\n",
    "\n",
    "We can further evbaluate percentage of our correct prediction by using `classification_report()` function."
   ]
  },
  {
   "cell_type": "code",
   "execution_count": 18,
   "metadata": {},
   "outputs": [
    {
     "name": "stdout",
     "output_type": "stream",
     "text": [
      "              precision    recall  f1-score   support\n",
      "\n",
      "           0     0.5070    0.2409    0.3266       602\n",
      "           1     0.5259    0.7824    0.6290       648\n",
      "\n",
      "    accuracy                         0.5216      1250\n",
      "   macro avg     0.5165    0.5116    0.4778      1250\n",
      "weighted avg     0.5168    0.5216    0.4834      1250\n",
      "\n"
     ]
    }
   ],
   "source": [
    "from sklearn.metrics import confusion_matrix, classification_report, precision_score\n",
    "\n",
    "# For the predict values we will conver to 0 and 1\n",
    "print(classification_report(smarket['Direction'], (logit_model.predict(exog) > 0.5).astype(int), digits=4))"
   ]
  },
  {
   "cell_type": "markdown",
   "metadata": {},
   "source": [
    "* We see `accuracy` is .5216 which means that logistic regression correctly predicted the movement of the market 52.2% of the time.\n",
    "\n",
    "At first glance, it appears that the logistic regression model is working a little better than random guessing. However, this result is misleading because we trained and tested the model on the same set of 1, 250 observations. In other words, 100− 52.2 = 47.8% is the _training_ error rate.\n",
    "\n",
    "To better assess the accuracy of the logistic regression model in this setting, we can fit the model using part of the data, and then examine how well it predicts the held-out data.\n",
    "\n",
    "To implement this strategy, we will first split the data for training with the values from 2001 through 2004. We will then use this vector to create a held-out data set of observations from 2005."
   ]
  },
  {
   "cell_type": "code",
   "execution_count": 19,
   "metadata": {},
   "outputs": [
    {
     "name": "stdout",
     "output_type": "stream",
     "text": [
      "Train set (998, 9)\n",
      "Test set (252, 9)\n"
     ]
    }
   ],
   "source": [
    "X_train = smarket[smarket['Year'] < 2005]\n",
    "y_train = smarket.iloc[:, -1][smarket['Year'] < 2005]\n",
    "print('Train set', X_train.shape)\n",
    "\n",
    "X_test = smarket[smarket['Year'] >= 2005]\n",
    "y_test = smarket.iloc[:, -1][smarket['Year'] >= 2005]\n",
    "\n",
    "print('Test set', X_test.shape)"
   ]
  },
  {
   "cell_type": "markdown",
   "metadata": {},
   "source": [
    "We now fit a logistic regression model using only the subset of the observations that correspond to dates before 2005. Therefore we will use our train set. And then predict it on our test set."
   ]
  },
  {
   "cell_type": "code",
   "execution_count": 20,
   "metadata": {},
   "outputs": [],
   "source": [
    "full_set = 'Direction ~ Lag1+Lag2+Lag3+Lag4+Lag5+Volume'"
   ]
  },
  {
   "cell_type": "code",
   "execution_count": 21,
   "metadata": {},
   "outputs": [],
   "source": [
    "logit01 = smf.glm(formula= full_set, data= X_train, \n",
    "                family= sm.families.Binomial()).fit()"
   ]
  },
  {
   "cell_type": "code",
   "execution_count": 22,
   "metadata": {},
   "outputs": [
    {
     "name": "stdout",
     "output_type": "stream",
     "text": [
      "              precision    recall  f1-score   support\n",
      "\n",
      "           0     0.4425    0.6937    0.5404       111\n",
      "           1     0.5641    0.3121    0.4018       141\n",
      "\n",
      "    accuracy                         0.4802       252\n",
      "   macro avg     0.5033    0.5029    0.4711       252\n",
      "weighted avg     0.5106    0.4802    0.4628       252\n",
      "\n"
     ]
    }
   ],
   "source": [
    "print(classification_report(y_test, (logit01.predict(X_test) > 0.5).astype(int), digits=4))"
   ]
  },
  {
   "cell_type": "markdown",
   "metadata": {},
   "source": [
    "* Our accuracy dropped to .4802 (48.02%)\n",
    "* Model predict **Direction** _Up_ slightly better - 56.41%\n",
    "\n",
    "Now our results are even worth then when we ran the model on the full data. And this is normal and it's a common practice to train the model on one part of the data set and test in on another in order not to overfit the model. We should not be surprised by this outcome as it's generally expected for a previous day not to be a determinant if a stock goes up or down in value the next day.\n",
    "\n",
    "Previously we also saw that **Lag1** had the smallest corresponding _p-value_. The variables cause the increase in variance, without actually decreasing bias. Maybe by removing the variables that appear to be insignificant to predict the outcome, we can improve our model's accuracy.\n",
    "\n",
    "Below we have refit the logistic regression using just **Lag1** and **Lag2**, which seemed to have the highest predictive power in the original logistic regression model."
   ]
  },
  {
   "cell_type": "code",
   "execution_count": 23,
   "metadata": {},
   "outputs": [],
   "source": [
    "two_vars = 'Direction ~ Lag1+Lag2'"
   ]
  },
  {
   "cell_type": "code",
   "execution_count": 24,
   "metadata": {},
   "outputs": [],
   "source": [
    "logit02 = smf.glm(formula= two_vars, data= X_train, \n",
    "                family= sm.families.Binomial()).fit()"
   ]
  },
  {
   "cell_type": "code",
   "execution_count": 25,
   "metadata": {},
   "outputs": [
    {
     "name": "stdout",
     "output_type": "stream",
     "text": [
      "              precision    recall  f1-score   support\n",
      "\n",
      "           0     0.5000    0.3153    0.3867       111\n",
      "           1     0.5824    0.7518    0.6563       141\n",
      "\n",
      "    accuracy                         0.5595       252\n",
      "   macro avg     0.5412    0.5335    0.5215       252\n",
      "weighted avg     0.5461    0.5595    0.5376       252\n",
      "\n"
     ]
    }
   ],
   "source": [
    "print(classification_report(y_test, (logit02.predict(X_test) > 0.5).astype(int), digits=4))"
   ]
  },
  {
   "cell_type": "markdown",
   "metadata": {},
   "source": [
    "Now the results appear to be a little better:\n",
    "* 56% of the daily movements have been correctly predicted.\n",
    "* _Up_ direction even went up to 58%\n",
    "* Much simpler model gave a better result\n",
    "\n",
    "However, prediction accuracy still being so low we can conclude that the logistic regression method is no better than the naıve approach\n",
    "\n",
    "Suppose that we want to predict the returns associated with particular values of **Lag1** and **Lag2**. In particular, we want to predict Direction on a day when **Lag1** and **Lag2** equal 1.2 and 1.1, respectively, and on a day when they equal 1.5 and −0.8."
   ]
  },
  {
   "cell_type": "code",
   "execution_count": 26,
   "metadata": {},
   "outputs": [],
   "source": [
    "lag_values = pd.DataFrame([[1.2, 1.1], \n",
    "                           [1.5, -0.8]],\n",
    "                         columns= [\"Lag1\",\"Lag2\"])"
   ]
  },
  {
   "cell_type": "code",
   "execution_count": 27,
   "metadata": {},
   "outputs": [
    {
     "name": "stdout",
     "output_type": "stream",
     "text": [
      "0    0.479146\n",
      "1    0.496094\n",
      "dtype: float64\n"
     ]
    }
   ],
   "source": [
    "print(logit02.predict(lag_values))"
   ]
  },
  {
   "cell_type": "markdown",
   "metadata": {},
   "source": [
    "--------\n",
    "## _4.6.3 Linear Discriminant Analysis_\n",
    "\n",
    "Now we will perform *LDA* on the **Smarket** data. We can perform LDA using `sk-learn` function. We fit the model using only the observations before 2005."
   ]
  },
  {
   "cell_type": "code",
   "execution_count": 28,
   "metadata": {},
   "outputs": [],
   "source": [
    "X_train = smarket[smarket['Year'] < 2005][['Lag1','Lag2']]\n",
    "y_train = smarket[smarket['Year'] < 2005]['Direction']\n",
    "\n",
    "X_test = smarket[smarket['Year'] >= 2005][['Lag1', 'Lag2']]\n",
    "y_test = smarket[smarket['Year'] >= 2005]['Direction']"
   ]
  },
  {
   "cell_type": "code",
   "execution_count": 29,
   "metadata": {},
   "outputs": [],
   "source": [
    "from sklearn.discriminant_analysis import LinearDiscriminantAnalysis\n",
    "LDA = LinearDiscriminantAnalysis()\n",
    "lda_model = LDA.fit(X_train, y_train)"
   ]
  },
  {
   "cell_type": "code",
   "execution_count": 30,
   "metadata": {},
   "outputs": [],
   "source": [
    "def print_model_info(model):\n",
    "    print('Prior probabilities of groups :\\n\\tDown\\tUp\\n', model.priors_,'\\n')\n",
    "    print('Group means :\\n\\tLag1\\tLag2\\nDown', model.means_[0],\n",
    "          '\\nUp ', model.means_[1], '\\n')"
   ]
  },
  {
   "cell_type": "code",
   "execution_count": 31,
   "metadata": {},
   "outputs": [
    {
     "name": "stdout",
     "output_type": "stream",
     "text": [
      "Prior probabilities of groups :\n",
      "\tDown\tUp\n",
      " [0.49198397 0.50801603] \n",
      "\n",
      "Group means :\n",
      "\tLag1\tLag2\n",
      "Down [0.04279022 0.03389409] \n",
      "Up  [-0.03954635 -0.03132544] \n",
      "\n"
     ]
    }
   ],
   "source": [
    "print_model_info(lda_model)"
   ]
  },
  {
   "cell_type": "code",
   "execution_count": 32,
   "metadata": {},
   "outputs": [
    {
     "name": "stdout",
     "output_type": "stream",
     "text": [
      "Coefficients:\n",
      " [[-0.05544078 -0.0443452 ]]\n"
     ]
    }
   ],
   "source": [
    "print('Coefficients:\\n', lda_model.coef_)"
   ]
  },
  {
   "cell_type": "markdown",
   "metadata": {},
   "source": [
    "* The LDA output indicates prior probabilities of ${\\hat{\\pi}}_1 = 0.492$ and ${\\hat{\\pi}}_2 = 0.508$; in other words, 49.2% of the training observations correspond to days during which the market went down.\n",
    "\n",
    "\n",
    "* The group means -- the average of each predictor within each class used by LDA as estimates of $\\mu_k$ -- suggests that there is a tendency for the previous 2 days’ returns to be negative on days when the market increases.\n",
    "\n",
    "\n",
    "* The coefficients of linear discriminants output provides the linear combination of **Lag1** and **Lag2** that are used to form the LDA decision rule\n",
    "\n",
    "\n",
    "* If $−0.0554\\times{\\tt Lag1}−0.0443\\times{\\tt Lag2}$ is large, then the LDA classifier will predict a market increase, and if it is small, then the LDA classifier will predict a market decline\n",
    "\n",
    "\n",
    "The `.predict()` function returns a list with three elements. The first element,class, contains LDA’s predictions about the movement of the market."
   ]
  },
  {
   "cell_type": "code",
   "execution_count": 33,
   "metadata": {},
   "outputs": [],
   "source": [
    "lda_pred = lda_model.predict(X_test)"
   ]
  },
  {
   "cell_type": "code",
   "execution_count": 34,
   "metadata": {},
   "outputs": [],
   "source": [
    "def conf_matrix(y_test, y_pred):\n",
    "    matrix = confusion_matrix(y_test, y_pred).T\n",
    "    print('<<< Confusion Matrix of LDA >>>')\n",
    "    print('\\t  Down','Up', '\\nDown',\n",
    "          '\\t', matrix[0], '\\nUp',\n",
    "          '\\t', matrix[1])"
   ]
  },
  {
   "cell_type": "code",
   "execution_count": 35,
   "metadata": {},
   "outputs": [
    {
     "name": "stdout",
     "output_type": "stream",
     "text": [
      "<<< Confusion Matrix of LDA >>>\n",
      "\t  Down Up \n",
      "Down \t [35 35] \n",
      "Up \t [ 76 106]\n"
     ]
    }
   ],
   "source": [
    "conf_matrix(y_test, lda_pred)"
   ]
  },
  {
   "cell_type": "markdown",
   "metadata": {},
   "source": [
    "Applying a 50% threshold to the posterior probabilities allows us to recreate the predictions. We can also use any other probability threshold we want."
   ]
  },
  {
   "cell_type": "code",
   "execution_count": 36,
   "metadata": {},
   "outputs": [],
   "source": [
    "pr_pred = LDA.predict_proba(X_test)"
   ]
  },
  {
   "cell_type": "code",
   "execution_count": 37,
   "metadata": {},
   "outputs": [
    {
     "name": "stdout",
     "output_type": "stream",
     "text": [
      "50% threshold:  (array([False,  True]), array([ 70, 182], dtype=int64)) \n",
      "\n",
      "90% threshold:  (array([False]), array([252], dtype=int64))\n"
     ]
    }
   ],
   "source": [
    "# 50% threshold\n",
    "print('50% threshold: ', np.unique(pr_pred[:, 1] > .5, return_counts=True), '\\n')\n",
    "\n",
    "# 90% threshold\n",
    "print('90% threshold: ',np.unique(pr_pred[:, 1] > .9, return_counts=True))"
   ]
  },
  {
   "cell_type": "markdown",
   "metadata": {},
   "source": [
    "* With 50% threshold, we have 182 correct predictions\n",
    "* No days are in 2005 meet the 90% threshold!\n",
    "\n",
    "---------\n",
    "## _4.6.4 Quadratic Discriminant Analysis_\n",
    "\n",
    "We will now fit a *QDA* model to the **Smarket** data"
   ]
  },
  {
   "cell_type": "code",
   "execution_count": 38,
   "metadata": {},
   "outputs": [],
   "source": [
    "from sklearn.discriminant_analysis import QuadraticDiscriminantAnalysis\n",
    "\n",
    "QDA = QuadraticDiscriminantAnalysis()\n",
    "qda_model = QDA.fit(X_train, y_train)"
   ]
  },
  {
   "cell_type": "code",
   "execution_count": 39,
   "metadata": {},
   "outputs": [
    {
     "name": "stdout",
     "output_type": "stream",
     "text": [
      "Prior probabilities of groups :\n",
      "\tDown\tUp\n",
      " [0.49198397 0.50801603] \n",
      "\n",
      "Group means :\n",
      "\tLag1\tLag2\n",
      "Down [0.04279022 0.03389409] \n",
      "Up  [-0.03954635 -0.03132544] \n",
      "\n"
     ]
    }
   ],
   "source": [
    "# I will reuse the function for printing model details\n",
    "print_model_info(qda_model)"
   ]
  },
  {
   "cell_type": "markdown",
   "metadata": {},
   "source": [
    "The output contains the group means. But it does not contain the coefficients of the linear discriminants, because the QDA classifier involves a quadratic, rather than a linear, function of the predictors\n",
    "\n",
    "We perform predictions just like with LDA using `.predict()` function"
   ]
  },
  {
   "cell_type": "code",
   "execution_count": 40,
   "metadata": {},
   "outputs": [],
   "source": [
    "qda_pred = qda_model.predict(X_test)"
   ]
  },
  {
   "cell_type": "code",
   "execution_count": 41,
   "metadata": {},
   "outputs": [
    {
     "name": "stdout",
     "output_type": "stream",
     "text": [
      "<<< Confusion Matrix of LDA >>>\n",
      "\t  Down Up \n",
      "Down \t [30 20] \n",
      "Up \t [ 81 121]\n"
     ]
    }
   ],
   "source": [
    "conf_matrix(y_test, qda_pred)"
   ]
  },
  {
   "cell_type": "code",
   "execution_count": 42,
   "metadata": {},
   "outputs": [
    {
     "name": "stdout",
     "output_type": "stream",
     "text": [
      "              precision    recall  f1-score   support\n",
      "\n",
      "           0     0.6000    0.2703    0.3727       111\n",
      "           1     0.5990    0.8582    0.7055       141\n",
      "\n",
      "    accuracy                         0.5992       252\n",
      "   macro avg     0.5995    0.5642    0.5391       252\n",
      "weighted avg     0.5994    0.5992    0.5589       252\n",
      "\n"
     ]
    }
   ],
   "source": [
    "print(classification_report(y_test, (qda_model.predict(X_test) > 0.5).astype(int), digits=4))"
   ]
  },
  {
   "cell_type": "markdown",
   "metadata": {},
   "source": [
    "Interestingly, the QDA predictions are accurate almost 60% of the time, even though the 2005 data were not used to fit the model. This level of accuracy is quite impressive for stock market data, which is known to be quite hard to model accurately. This suggests that the quadratic form assumed by QDA may capture the true relationship more accurately than the linear forms assumed by LDA and logistic regression. However, it's recommended evaluating this method’s performance on a larger test set before betting that this approach will consistently beat the market!\n",
    "\n",
    "------------\n",
    "## _4.6.5 K-Nearest Neighbors_"
   ]
  },
  {
   "cell_type": "markdown",
   "metadata": {},
   "source": [
    "We will now perform KNN using the `neighbors` function, which is part of the `scikit-learn` class library. This function works rather differently from the other model fitting functions that we have encountered thus far. Rather than a two-step approach in which we first fit the model and then we use the model to make predictions, `neighbors` form predictions using a single command. The function requires four inputs.\n",
    "\n",
    "1. A matrix containing the predictors associated with the training data (X_train).\n",
    "2. A matrix containing the predictors associated with the data for which we wish to make predictions (X_test).\n",
    "3. A vector containing the class labels for the training observations, labeled below (y_train).\n",
    "4. A value for _K_, the number of nearest neighbors to be used by the classifier.\n",
    "\n",
    "As we have already split the data previously we will just go ahead and run the model"
   ]
  },
  {
   "cell_type": "code",
   "execution_count": 43,
   "metadata": {},
   "outputs": [],
   "source": [
    "from sklearn import neighbors\n",
    "\n",
    "knn = neighbors.KNeighborsClassifier(n_neighbors = 1)\n",
    "knn_pred = knn.fit(X_train, y_train).predict(X_test)"
   ]
  },
  {
   "cell_type": "code",
   "execution_count": 44,
   "metadata": {},
   "outputs": [
    {
     "name": "stdout",
     "output_type": "stream",
     "text": [
      "<<< Confusion Matrix of LDA >>>\n",
      "\t  Down Up \n",
      "Down \t [43 58] \n",
      "Up \t [68 83]\n"
     ]
    }
   ],
   "source": [
    "conf_matrix(y_test, knn_pred)"
   ]
  },
  {
   "cell_type": "code",
   "execution_count": 45,
   "metadata": {},
   "outputs": [
    {
     "name": "stdout",
     "output_type": "stream",
     "text": [
      "              precision    recall  f1-score   support\n",
      "\n",
      "           0     0.4257    0.3874    0.4057       111\n",
      "           1     0.5497    0.5887    0.5685       141\n",
      "\n",
      "    accuracy                         0.5000       252\n",
      "   macro avg     0.4877    0.4880    0.4871       252\n",
      "weighted avg     0.4951    0.5000    0.4968       252\n",
      "\n"
     ]
    }
   ],
   "source": [
    "print(classification_report(y_test, knn_pred, digits=4))"
   ]
  },
  {
   "cell_type": "markdown",
   "metadata": {},
   "source": [
    "The results using K = 1 are not very good since only 50% of the observations are correctly predicted. Of course, it may be that K = 1 results in an overly flexible fit to the data. Below, we repeat the analysis using K = 3."
   ]
  },
  {
   "cell_type": "code",
   "execution_count": 46,
   "metadata": {},
   "outputs": [],
   "source": [
    "knn1 = neighbors.KNeighborsClassifier(n_neighbors = 3)\n",
    "knn_pred1 = knn1.fit(X_train, y_train).predict(X_test)"
   ]
  },
  {
   "cell_type": "code",
   "execution_count": 47,
   "metadata": {},
   "outputs": [
    {
     "name": "stdout",
     "output_type": "stream",
     "text": [
      "<<< Confusion Matrix of LDA >>>\n",
      "\t  Down Up \n",
      "Down \t [48 55] \n",
      "Up \t [63 86]\n"
     ]
    }
   ],
   "source": [
    "conf_matrix(y_test, knn_pred1)"
   ]
  },
  {
   "cell_type": "code",
   "execution_count": 48,
   "metadata": {},
   "outputs": [
    {
     "name": "stdout",
     "output_type": "stream",
     "text": [
      "              precision    recall  f1-score   support\n",
      "\n",
      "           0     0.4660    0.4324    0.4486       111\n",
      "           1     0.5772    0.6099    0.5931       141\n",
      "\n",
      "    accuracy                         0.5317       252\n",
      "   macro avg     0.5216    0.5212    0.5209       252\n",
      "weighted avg     0.5282    0.5317    0.5295       252\n",
      "\n"
     ]
    }
   ],
   "source": [
    "print(classification_report(y_test, knn_pred1, digits=4))"
   ]
  },
  {
   "cell_type": "markdown",
   "metadata": {},
   "source": [
    "The results have improved slightly. But increasing K further turns out to provide no further improvements. It appears that for this data, QDA provides the best results of the methods that we have examined so far.\n",
    "\n",
    "----------\n",
    "## _4.6.6 An Application to Caravan Insurance Data_\n",
    "\n",
    "Finally, we will apply the KNN approach to the **Caravan** data set. You can download data set from **[here.](https://rb.gy/pfbpzi)**\n",
    "\n",
    "* This data set includes 85 predictors that measure demographic characteristics for 5,822 individuals.\n",
    "* The response variable is **Purchase**, which indicates whether or not a given individual purchases a caravan insurance policy.\n",
    "* In this data set, only 6% of people purchased caravan insurance"
   ]
  },
  {
   "cell_type": "code",
   "execution_count": 49,
   "metadata": {},
   "outputs": [],
   "source": [
    "caravan = pd.read_csv('Caravan.csv')"
   ]
  },
  {
   "cell_type": "code",
   "execution_count": 50,
   "metadata": {},
   "outputs": [
    {
     "data": {
      "text/plain": [
       "(5822, 86)"
      ]
     },
     "execution_count": 50,
     "metadata": {},
     "output_type": "execute_result"
    }
   ],
   "source": [
    "caravan.shape"
   ]
  },
  {
   "cell_type": "code",
   "execution_count": 51,
   "metadata": {},
   "outputs": [
    {
     "data": {
      "text/plain": [
       "No     5474\n",
       "Yes     348\n",
       "Name: Purchase, dtype: int64"
      ]
     },
     "execution_count": 51,
     "metadata": {},
     "output_type": "execute_result"
    }
   ],
   "source": [
    "caravan['Purchase'].value_counts()"
   ]
  },
  {
   "cell_type": "markdown",
   "metadata": {},
   "source": [
    "Because the KNN classifier predicts the class of a given test observation by identifying the observations that are nearest to it, the scale of the variables matters. Any variables that are on a large scale will have a much larger effect on the distance between the observations, and hence on the KNN classifier, than variables that are on a small scale.\n",
    "\n",
    "Because of that we will standardize the data so that all variables are given a mean of zero and standard deviation of one. This way all variables will be on a comparable scale.\n",
    "\n",
    "We will use `preprocessing` from `sklearn` library."
   ]
  },
  {
   "cell_type": "code",
   "execution_count": 52,
   "metadata": {},
   "outputs": [],
   "source": [
    "from sklearn import preprocessing\n",
    "\n",
    "y = caravan['Purchase']\n",
    "X = caravan.drop('Purchase', axis=1).astype('float64')\n",
    "X_scaled = preprocessing.scale(X)"
   ]
  },
  {
   "cell_type": "markdown",
   "metadata": {},
   "source": [
    "Now every column of **X_scaled** has a standard deviation of one anda mean of zero.\n",
    "\n",
    "We now split the observations into a test set, containing the first 1,000 observations, and a training set, containing the remaining observations."
   ]
  },
  {
   "cell_type": "code",
   "execution_count": 53,
   "metadata": {},
   "outputs": [],
   "source": [
    "X_train = X_scaled[1000:, :]\n",
    "y_train = y[1000:]\n",
    "\n",
    "X_test = X_scaled[:1000, :]\n",
    "y_test = y[:1000]"
   ]
  },
  {
   "cell_type": "markdown",
   "metadata": {},
   "source": [
    "We fit a KNN model on the training data using K = 1, and evaluate its performance on the test data"
   ]
  },
  {
   "cell_type": "code",
   "execution_count": 54,
   "metadata": {},
   "outputs": [],
   "source": [
    "knn2 = neighbors.KNeighborsClassifier(n_neighbors = 1)\n",
    "knn_pred2 = knn2.fit(X_train, y_train).predict(X_test)"
   ]
  },
  {
   "cell_type": "code",
   "execution_count": 55,
   "metadata": {},
   "outputs": [
    {
     "name": "stdout",
     "output_type": "stream",
     "text": [
      "              precision    recall  f1-score   support\n",
      "\n",
      "          No     0.9458    0.9277    0.9367       941\n",
      "         Yes     0.1169    0.1525    0.1324        59\n",
      "\n",
      "    accuracy                         0.8820      1000\n",
      "   macro avg     0.5314    0.5401    0.5345      1000\n",
      "weighted avg     0.8969    0.8820    0.8892      1000\n",
      "\n"
     ]
    }
   ],
   "source": [
    "print(classification_report(y_test, knn_pred2, digits=4))"
   ]
  },
  {
   "cell_type": "markdown",
   "metadata": {},
   "source": [
    "* The KNN error rate on the 1,000 test observations is just under 12%.\n",
    "\n",
    "At first glance, this may appear to be fairly good. However, since only 6% of customers purchased insurance, we could get the error rate down to 6% by always predicting No regardless of the values of the predictors!"
   ]
  },
  {
   "cell_type": "markdown",
   "metadata": {},
   "source": [
    "the company would like to try to sell insurance only to customers who are likely to buy it. So the overall error rate is not of interest. Instead, the fraction of individuals that are correctly predicted to buy insurance is of interest."
   ]
  },
  {
   "cell_type": "code",
   "execution_count": 56,
   "metadata": {},
   "outputs": [
    {
     "name": "stdout",
     "output_type": "stream",
     "text": [
      "<<< Confusion Matrix of LDA >>>\n",
      "\t  No Yes \n",
      "No \t [873  50] \n",
      "Yes \t [68  9]\n"
     ]
    }
   ],
   "source": [
    "def conf_matrix_knn(y_test, y_pred):\n",
    "    matrix = confusion_matrix(y_test, y_pred).T\n",
    "    print('<<< Confusion Matrix of LDA >>>')\n",
    "    print('\\t  No','Yes', '\\nNo',\n",
    "          '\\t', matrix[0], '\\nYes',\n",
    "          '\\t', matrix[1])\n",
    "    \n",
    "conf_matrix_knn(y_test, knn_pred2)"
   ]
  },
  {
   "cell_type": "markdown",
   "metadata": {},
   "source": [
    "KNN with K = 1 does far better than random guessing among the customers that are predicted to buy insurance. Among 77 such\n",
    "customers, 9, or 11.7%, actually do purchase insurance. This is double the rate that one would obtain from random guessing."
   ]
  },
  {
   "cell_type": "code",
   "execution_count": 57,
   "metadata": {},
   "outputs": [
    {
     "name": "stdout",
     "output_type": "stream",
     "text": [
      "<<< Confusion Matrix of LDA >>>\n",
      "\t  No Yes \n",
      "No \t [921  54] \n",
      "Yes \t [20  5]\n"
     ]
    }
   ],
   "source": [
    "knn3 = neighbors.KNeighborsClassifier(n_neighbors = 3)\n",
    "knn_pred3 = knn3.fit(X_train, y_train).predict(X_test)\n",
    "conf_matrix_knn(y_test, knn_pred3)"
   ]
  },
  {
   "cell_type": "code",
   "execution_count": 58,
   "metadata": {},
   "outputs": [
    {
     "name": "stdout",
     "output_type": "stream",
     "text": [
      "<<< Confusion Matrix of LDA >>>\n",
      "\t  No Yes \n",
      "No \t [930  55] \n",
      "Yes \t [11  4]\n"
     ]
    }
   ],
   "source": [
    "knn4 = neighbors.KNeighborsClassifier(n_neighbors = 5)\n",
    "knn_pred4 = knn4.fit(X_train, y_train).predict(X_test)\n",
    "conf_matrix_knn(y_test, knn_pred4)"
   ]
  },
  {
   "cell_type": "markdown",
   "metadata": {},
   "source": [
    "Using K = 3, the success rate increases to 19 %, and with K = 5 the rate is 26.7%."
   ]
  },
  {
   "cell_type": "code",
   "execution_count": null,
   "metadata": {},
   "outputs": [],
   "source": []
  }
 ],
 "metadata": {
  "kernelspec": {
   "display_name": "Python 3",
   "language": "python",
   "name": "python3"
  },
  "language_info": {
   "codemirror_mode": {
    "name": "ipython",
    "version": 3
   },
   "file_extension": ".py",
   "mimetype": "text/x-python",
   "name": "python",
   "nbconvert_exporter": "python",
   "pygments_lexer": "ipython3",
   "version": "3.7.4"
  }
 },
 "nbformat": 4,
 "nbformat_minor": 2
}
